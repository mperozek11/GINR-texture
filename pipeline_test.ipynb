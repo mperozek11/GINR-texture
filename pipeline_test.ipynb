{
 "cells": [
  {
   "cell_type": "code",
   "execution_count": 14,
   "id": "2b7b401d-fd9e-4410-96cc-10a66048a9e8",
   "metadata": {},
   "outputs": [],
   "source": [
    "from mesh_dataset_utils import *\n",
    "from mesh_experiment import Experiment\n",
    "from MLP import MLP\n",
    "import torch\n",
    "from torch import nn\n",
    "from sklearn.model_selection import train_test_split"
   ]
  },
  {
   "cell_type": "code",
   "execution_count": 3,
   "id": "32bdd29c-4c92-41c8-9360-d8b9768b1c2c",
   "metadata": {},
   "outputs": [],
   "source": [
    "DIRECTORY_NAME = 'spikey_1_partial_smooth'"
   ]
  },
  {
   "cell_type": "code",
   "execution_count": 4,
   "id": "c6f9bb49-3b96-4cd4-a88e-3e3486bb07b3",
   "metadata": {},
   "outputs": [],
   "source": [
    "dataset = np.load(f'npz_train/{DIRECTORY_NAME}.npz')"
   ]
  },
  {
   "cell_type": "code",
   "execution_count": 5,
   "id": "92d4f17c-0b13-48a5-bf84-3de2412c57ef",
   "metadata": {},
   "outputs": [],
   "source": [
    "X = dataset['fourier']\n",
    "y = dataset['target']"
   ]
  },
  {
   "cell_type": "code",
   "execution_count": 6,
   "id": "23df78ea-d012-48d4-8e12-9c702402b61b",
   "metadata": {},
   "outputs": [
    {
     "data": {
      "text/plain": [
       "(42787, 100)"
      ]
     },
     "execution_count": 6,
     "metadata": {},
     "output_type": "execute_result"
    }
   ],
   "source": [
    "X.shape"
   ]
  },
  {
   "cell_type": "code",
   "execution_count": 7,
   "id": "24c13d4c-b1d8-4a3c-b8a7-8e4ffa74e4be",
   "metadata": {},
   "outputs": [
    {
     "data": {
      "text/plain": [
       "(42787, 3)"
      ]
     },
     "execution_count": 7,
     "metadata": {},
     "output_type": "execute_result"
    }
   ],
   "source": [
    "y.shape"
   ]
  },
  {
   "cell_type": "code",
   "execution_count": 26,
   "id": "644ead00-b5bf-4070-8eb4-974a4050d42b",
   "metadata": {},
   "outputs": [],
   "source": [
    "X_train, X_test, y_train, y_test = train_test_split(X, y, test_size=0.15, random_state=11)"
   ]
  },
  {
   "cell_type": "code",
   "execution_count": 27,
   "id": "dfa64022-0852-4c37-b83a-258b8dad6359",
   "metadata": {},
   "outputs": [],
   "source": [
    "batch_size = 1000\n",
    "train_data = torch.utils.data.TensorDataset(torch.tensor(X_train).float(), torch.tensor(y_train).float())\n",
    "train_loader = torch.utils.data.DataLoader(train_data, batch_size=batch_size, shuffle=True)\n",
    "\n",
    "test_data = torch.utils.data.TensorDataset(torch.tensor(X_test).float(), torch.tensor(y_test).float())\n",
    "test_loader = torch.utils.data.DataLoader(test_data, batch_size=batch_size, shuffle=True)"
   ]
  },
  {
   "cell_type": "code",
   "execution_count": 28,
   "id": "389962c7-d169-432a-a76e-e50ef4c660bf",
   "metadata": {},
   "outputs": [],
   "source": [
    "model = MLP(\n",
    "            input_dim=X.shape[1],\n",
    "            output_dim=y.shape[1],\n",
    "            hidden_dim=512,\n",
    "            n_layers=6,\n",
    "            geometric_init=True,\n",
    "            beta=True,\n",
    "            sine=True,\n",
    "            all_sine=True,\n",
    "            skip=True,\n",
    "            bn=True,\n",
    "            dropout=0.0\n",
    "            )"
   ]
  },
  {
   "cell_type": "code",
   "execution_count": 29,
   "id": "70e70113-b4b2-4fd2-9deb-229ced3cd75f",
   "metadata": {},
   "outputs": [],
   "source": [
    "lr=1e-4\n",
    "optimizer = torch.optim.Adam(model.parameters(), lr=lr)\n",
    "loss_fn = nn.MSELoss()\n",
    "epochs = 20\n",
    "rand_inits = 2\n",
    "OUT_DIR = 'experiments'\n",
    "model_info = {'test': 'TEST!!'}"
   ]
  },
  {
   "cell_type": "code",
   "execution_count": 30,
   "id": "a1d1dafa-90ff-4c58-9134-12260780640a",
   "metadata": {},
   "outputs": [],
   "source": [
    "exp = Experiment(model,\n",
    "                    optimizer,\n",
    "                    loss_fn,\n",
    "                    train_loader,\n",
    "                    test_loader,\n",
    "                    epochs,\n",
    "                    rand_inits,\n",
    "                    OUT_DIR,\n",
    "                    model_info,\n",
    "                    rand_seed=11)"
   ]
  },
  {
   "cell_type": "code",
   "execution_count": 31,
   "id": "ed5f7af3-7a92-4974-b0c0-eab717c3065c",
   "metadata": {},
   "outputs": [
    {
     "name": "stdout",
     "output_type": "stream",
     "text": [
      "started training for 20 epochs\n",
      "epoch 0 training loss: 0.8636501930855416 eval loss: 0.7156544327735901\n",
      "epoch 5 training loss: 0.11824432579246727 eval loss: 0.09782876074314117\n",
      "epoch 10 training loss: 0.0072446457437566805 eval loss: 0.0024675647728145123\n",
      "epoch 15 training loss: 0.0019163898116833454 eval loss: 0.0015994010027498007\n",
      "started training for 20 epochs\n",
      "epoch 0 training loss: 0.001335379944459812 eval loss: 0.000758034351747483\n",
      "epoch 5 training loss: 0.0013682750632634034 eval loss: 0.0009409158956259489\n",
      "epoch 10 training loss: 0.0010978406345522082 eval loss: 0.00070137158036232\n",
      "epoch 15 training loss: 0.0010127148314102276 eval loss: 0.0015137071022763848\n"
     ]
    },
    {
     "ename": "ValueError",
     "evalue": "dictionary update sequence element #0 has length 4; 2 is required",
     "output_type": "error",
     "traceback": [
      "\u001b[0;31m---------------------------------------------------------------------------\u001b[0m",
      "\u001b[0;31mValueError\u001b[0m                                Traceback (most recent call last)",
      "Cell \u001b[0;32mIn[31], line 1\u001b[0m\n\u001b[0;32m----> 1\u001b[0m log \u001b[38;5;241m=\u001b[39m \u001b[43mexp\u001b[49m\u001b[38;5;241;43m.\u001b[39;49m\u001b[43mrun\u001b[49m\u001b[43m(\u001b[49m\u001b[43m)\u001b[49m\n",
      "File \u001b[0;32m~/GINR-texture/mesh_experiment.py:139\u001b[0m, in \u001b[0;36mExperiment.run\u001b[0;34m(self)\u001b[0m\n\u001b[1;32m    136\u001b[0m     train_results\u001b[38;5;241m.\u001b[39mappend(\u001b[38;5;28mself\u001b[39m\u001b[38;5;241m.\u001b[39mtrain(i))\n\u001b[1;32m    138\u001b[0m train_results \u001b[38;5;241m=\u001b[39m np\u001b[38;5;241m.\u001b[39marray(train_results)\n\u001b[0;32m--> 139\u001b[0m \u001b[38;5;28;43mself\u001b[39;49m\u001b[38;5;241;43m.\u001b[39;49m\u001b[43mexp_log\u001b[49m\u001b[38;5;241;43m.\u001b[39;49m\u001b[43mupdate\u001b[49m\u001b[43m(\u001b[49m\u001b[43mtrain_results\u001b[49m\u001b[43m)\u001b[49m\n\u001b[1;32m    140\u001b[0m \u001b[38;5;28;01mreturn\u001b[39;00m \u001b[38;5;28mself\u001b[39m\u001b[38;5;241m.\u001b[39mexp_log\n",
      "\u001b[0;31mValueError\u001b[0m: dictionary update sequence element #0 has length 4; 2 is required"
     ]
    }
   ],
   "source": [
    "log = exp.run()"
   ]
  },
  {
   "cell_type": "code",
   "execution_count": 32,
   "id": "f0752708-7f02-41ee-bad2-bbe0d0c465fb",
   "metadata": {},
   "outputs": [
    {
     "name": "stdout",
     "output_type": "stream",
     "text": [
      "Linear Transformation Matrix A:\n",
      "[[0.28571429 0.35714286 0.42857143]\n",
      " [0.57142857 0.71428571 0.85714286]\n",
      " [0.85714286 1.07142857 1.28571429]]\n"
     ]
    }
   ],
   "source": [
    "import numpy as np\n",
    "\n",
    "# Example input vector x\n",
    "x = np.array([1, 2, 3])\n",
    "\n",
    "# Example output vector y\n",
    "y = np.array([4, 5, 6])\n",
    "\n",
    "# Create matrices X and Y from input and output vectors\n",
    "X = np.vstack([x])\n",
    "Y = np.vstack([y])\n",
    "\n",
    "# Find the linear transformation matrix A using least squares regression\n",
    "A, residuals, rank, s = np.linalg.lstsq(X, Y, rcond=None)\n",
    "\n",
    "# Print the linear transformation matrix A\n",
    "print(\"Linear Transformation Matrix A:\")\n",
    "print(A)"
   ]
  },
  {
   "cell_type": "code",
   "execution_count": 34,
   "id": "2d816568-baa8-48d7-a3c9-1964870874fd",
   "metadata": {},
   "outputs": [
    {
     "data": {
      "text/plain": [
       "array([4., 5., 6.])"
      ]
     },
     "execution_count": 34,
     "metadata": {},
     "output_type": "execute_result"
    }
   ],
   "source": [
    "x.dot(A)"
   ]
  },
  {
   "cell_type": "code",
   "execution_count": 36,
   "id": "05c4c053-f7eb-4be0-bbcc-223ef99eb758",
   "metadata": {},
   "outputs": [],
   "source": [
    "def get_linear_transformation(x1, x2):\n",
    "    X1 = np.vstack([x1])\n",
    "    X2 = np.vstack([x2])\n",
    "    \n",
    "    A, residuals, rank, s = np.linalg.lstsq(X, Y, rcond=None)\n",
    "    \n",
    "    return A\n",
    "    "
   ]
  },
  {
   "cell_type": "code",
   "execution_count": null,
   "id": "e3bfdb65-7d01-4aee-a6f7-a0f4b6454f77",
   "metadata": {},
   "outputs": [],
   "source": []
  }
 ],
 "metadata": {
  "kernelspec": {
   "display_name": "Python 3 (ipykernel)",
   "language": "python",
   "name": "python3"
  },
  "language_info": {
   "codemirror_mode": {
    "name": "ipython",
    "version": 3
   },
   "file_extension": ".py",
   "mimetype": "text/x-python",
   "name": "python",
   "nbconvert_exporter": "python",
   "pygments_lexer": "ipython3",
   "version": "3.10.9"
  }
 },
 "nbformat": 4,
 "nbformat_minor": 5
}
