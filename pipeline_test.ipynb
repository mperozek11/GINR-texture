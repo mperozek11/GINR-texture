{
 "cells": [
  {
   "cell_type": "code",
   "execution_count": 1,
   "id": "2b7b401d-fd9e-4410-96cc-10a66048a9e8",
   "metadata": {},
   "outputs": [],
   "source": [
    "from mesh_dataset_utils import *\n",
    "from mesh_experiment import Experiment\n",
    "from MLP import MLP\n",
    "import torch\n",
    "from torch import nn\n",
    "from sklearn.model_selection import train_test_split\n",
    "from datetime import datetime"
   ]
  },
  {
   "cell_type": "code",
   "execution_count": 2,
   "id": "32bdd29c-4c92-41c8-9360-d8b9768b1c2c",
   "metadata": {},
   "outputs": [],
   "source": [
    "DATASET_NAME = 'spikey_1_partial_smooth'"
   ]
  },
  {
   "cell_type": "code",
   "execution_count": 3,
   "id": "c6f9bb49-3b96-4cd4-a88e-3e3486bb07b3",
   "metadata": {},
   "outputs": [],
   "source": [
    "dataset = np.load(f'npz_train/{DATASET_NAME}.npz')"
   ]
  },
  {
   "cell_type": "code",
   "execution_count": 4,
   "id": "92d4f17c-0b13-48a5-bf84-3de2412c57ef",
   "metadata": {},
   "outputs": [],
   "source": [
    "X = dataset['fourier']\n",
    "y = dataset['target']"
   ]
  },
  {
   "cell_type": "code",
   "execution_count": 5,
   "id": "23df78ea-d012-48d4-8e12-9c702402b61b",
   "metadata": {},
   "outputs": [
    {
     "data": {
      "text/plain": [
       "(42787, 100)"
      ]
     },
     "execution_count": 5,
     "metadata": {},
     "output_type": "execute_result"
    }
   ],
   "source": [
    "X.shape"
   ]
  },
  {
   "cell_type": "code",
   "execution_count": 6,
   "id": "24c13d4c-b1d8-4a3c-b8a7-8e4ffa74e4be",
   "metadata": {},
   "outputs": [
    {
     "data": {
      "text/plain": [
       "(42787, 3)"
      ]
     },
     "execution_count": 6,
     "metadata": {},
     "output_type": "execute_result"
    }
   ],
   "source": [
    "y.shape"
   ]
  },
  {
   "cell_type": "code",
   "execution_count": 7,
   "id": "644ead00-b5bf-4070-8eb4-974a4050d42b",
   "metadata": {},
   "outputs": [],
   "source": [
    "X_train, X_test, y_train, y_test = train_test_split(X, y, test_size=0.15, random_state=11)"
   ]
  },
  {
   "cell_type": "code",
   "execution_count": 8,
   "id": "dfa64022-0852-4c37-b83a-258b8dad6359",
   "metadata": {},
   "outputs": [],
   "source": [
    "batch_size = 1000\n",
    "train_data = torch.utils.data.TensorDataset(torch.tensor(X_train).float(), torch.tensor(y_train).float())\n",
    "train_loader = torch.utils.data.DataLoader(train_data, batch_size=batch_size, shuffle=True)\n",
    "\n",
    "test_data = torch.utils.data.TensorDataset(torch.tensor(X_test).float(), torch.tensor(y_test).float())\n",
    "test_loader = torch.utils.data.DataLoader(test_data, batch_size=batch_size, shuffle=True)"
   ]
  },
  {
   "cell_type": "code",
   "execution_count": 9,
   "id": "389962c7-d169-432a-a76e-e50ef4c660bf",
   "metadata": {},
   "outputs": [],
   "source": [
    "model = MLP(\n",
    "            input_dim=X.shape[1],\n",
    "            output_dim=y.shape[1],\n",
    "            hidden_dim=512,\n",
    "            n_layers=6,\n",
    "            geometric_init=True,\n",
    "            beta=True,\n",
    "            sine=True,\n",
    "            all_sine=True,\n",
    "            skip=True,\n",
    "            bn=True,\n",
    "            dropout=0.0\n",
    "            )"
   ]
  },
  {
   "cell_type": "code",
   "execution_count": 10,
   "id": "70e70113-b4b2-4fd2-9deb-229ced3cd75f",
   "metadata": {},
   "outputs": [],
   "source": [
    "lr=1e-4\n",
    "optimizer = torch.optim.Adam(model.parameters(), lr=lr)\n",
    "loss_fn = nn.MSELoss()\n",
    "epochs = 6\n",
    "rand_inits = 2\n",
    "now = datetime.now()\n",
    "\n",
    "OUT_DIR = f'experiments/{now.strftime(\"%m_%d_%y_%H:%M:%S\")}_{DATASET_NAME}'\n",
    "model_info = {'test': 'TEST!!'}"
   ]
  },
  {
   "cell_type": "code",
   "execution_count": 11,
   "id": "8c0cf5bf-6c26-4d3b-97c9-056031dd8946",
   "metadata": {},
   "outputs": [
    {
     "data": {
      "text/plain": [
       "'experiments/04_14_23_09:15:34_spikey_1_partial_smooth'"
      ]
     },
     "execution_count": 11,
     "metadata": {},
     "output_type": "execute_result"
    }
   ],
   "source": [
    "OUT_DIR"
   ]
  },
  {
   "cell_type": "code",
   "execution_count": 12,
   "id": "a1d1dafa-90ff-4c58-9134-12260780640a",
   "metadata": {},
   "outputs": [],
   "source": [
    "exp = Experiment(model,\n",
    "                    optimizer,\n",
    "                    loss_fn,\n",
    "                    train_loader,\n",
    "                    test_loader,\n",
    "                    epochs,\n",
    "                    rand_inits,\n",
    "                    OUT_DIR,\n",
    "                    model_info,\n",
    "                    rand_seed=11)"
   ]
  },
  {
   "cell_type": "code",
   "execution_count": 13,
   "id": "ed5f7af3-7a92-4974-b0c0-eab717c3065c",
   "metadata": {},
   "outputs": [
    {
     "name": "stdout",
     "output_type": "stream",
     "text": [
      "started training for 6 epochs\n",
      "epoch 0 training loss: 0.862726675497519 eval loss: 0.7290018796920776\n",
      "epoch 5 training loss: 0.11625583751781567 eval loss: 0.07707235962152481\n",
      "started training for 6 epochs\n",
      "epoch 0 training loss: 0.06942808305895007 eval loss: 0.03242572396993637\n",
      "epoch 5 training loss: 0.003752004455875706 eval loss: 0.006446818821132183\n"
     ]
    }
   ],
   "source": [
    "log = exp.run()"
   ]
  },
  {
   "cell_type": "code",
   "execution_count": 14,
   "id": "200f6d52-c136-4f79-8fd4-54890252b736",
   "metadata": {},
   "outputs": [
    {
     "data": {
      "text/plain": [
       "{'model': 'MLP(\\n  (model): ModuleList(\\n    (0): Linear(in_features=100, out_features=512, bias=True)\\n    (1): Sine()\\n    (2): LayerNorm((512,), eps=1e-05, elementwise_affine=True)\\n    (3): Linear(in_features=512, out_features=512, bias=True)\\n    (4): Sine()\\n    (5): LayerNorm((512,), eps=1e-05, elementwise_affine=True)\\n    (6): Linear(in_features=512, out_features=512, bias=True)\\n    (7): Sine()\\n    (8): LayerNorm((512,), eps=1e-05, elementwise_affine=True)\\n    (9): Linear(in_features=612, out_features=512, bias=True)\\n    (10): Sine()\\n    (11): LayerNorm((512,), eps=1e-05, elementwise_affine=True)\\n    (12): Linear(in_features=512, out_features=512, bias=True)\\n    (13): Sine()\\n    (14): LayerNorm((512,), eps=1e-05, elementwise_affine=True)\\n    (15): Linear(in_features=512, out_features=3, bias=True)\\n  )\\n)',\n",
       " 'optimizer': 'Adam (\\nParameter Group 0\\n    amsgrad: False\\n    betas: (0.9, 0.999)\\n    capturable: False\\n    eps: 1e-08\\n    foreach: None\\n    lr: 0.0001\\n    maximize: False\\n    weight_decay: 0\\n)',\n",
       " 'loss_fn': 'MSELoss()',\n",
       " 'epochs': 6,\n",
       " 'rand_inits': 2,\n",
       " 'rand_seed': 11,\n",
       " 'test': 'TEST!!',\n",
       " 'train_results': array([{'run': 0, 'best_loss': array(0.07707236, dtype=float32), 'train_losses': array([[0.86272668],\n",
       "               [0.61568941],\n",
       "               [0.42131372],\n",
       "               [0.28969641],\n",
       "               [0.17768598],\n",
       "               [0.11625584]]), 'eval_losses': array([[0.72900188],\n",
       "               [0.43280166],\n",
       "               [0.38933566],\n",
       "               [0.23714925],\n",
       "               [0.22180049],\n",
       "               [0.07707236]])}                                                                        ,\n",
       "        {'run': 1, 'best_loss': array(0.00644682, dtype=float32), 'train_losses': array([[0.06942808],\n",
       "               [0.03946763],\n",
       "               [0.02151939],\n",
       "               [0.01329321],\n",
       "               [0.00609208],\n",
       "               [0.003752  ]]), 'eval_losses': array([[0.03242572],\n",
       "               [0.01848526],\n",
       "               [0.0149142 ],\n",
       "               [0.01231386],\n",
       "               [0.00904766],\n",
       "               [0.00644682]])}                                                                        ],\n",
       "       dtype=object)}"
      ]
     },
     "execution_count": 14,
     "metadata": {},
     "output_type": "execute_result"
    }
   ],
   "source": [
    "log"
   ]
  },
  {
   "cell_type": "code",
   "execution_count": 32,
   "id": "f0752708-7f02-41ee-bad2-bbe0d0c465fb",
   "metadata": {},
   "outputs": [
    {
     "name": "stdout",
     "output_type": "stream",
     "text": [
      "Linear Transformation Matrix A:\n",
      "[[0.28571429 0.35714286 0.42857143]\n",
      " [0.57142857 0.71428571 0.85714286]\n",
      " [0.85714286 1.07142857 1.28571429]]\n"
     ]
    }
   ],
   "source": [
    "import numpy as np\n",
    "\n",
    "# Example input vector x\n",
    "x = np.array([1, 2, 3])\n",
    "\n",
    "# Example output vector y\n",
    "y = np.array([4, 5, 6])\n",
    "\n",
    "# Create matrices X and Y from input and output vectors\n",
    "X = np.vstack([x])\n",
    "Y = np.vstack([y])\n",
    "\n",
    "# Find the linear transformation matrix A using least squares regression\n",
    "A, residuals, rank, s = np.linalg.lstsq(X, Y, rcond=None)\n",
    "\n",
    "# Print the linear transformation matrix A\n",
    "print(\"Linear Transformation Matrix A:\")\n",
    "print(A)"
   ]
  },
  {
   "cell_type": "code",
   "execution_count": 34,
   "id": "2d816568-baa8-48d7-a3c9-1964870874fd",
   "metadata": {},
   "outputs": [
    {
     "data": {
      "text/plain": [
       "array([4., 5., 6.])"
      ]
     },
     "execution_count": 34,
     "metadata": {},
     "output_type": "execute_result"
    }
   ],
   "source": [
    "x.dot(A)"
   ]
  },
  {
   "cell_type": "code",
   "execution_count": 11,
   "id": "35761a8a-8646-4d5e-8477-8598b4e6c7cd",
   "metadata": {},
   "outputs": [],
   "source": [
    "a = np.array([7,23,156,67,5,4])\n",
    "b = np.array([71,35,12,1,0,50])"
   ]
  },
  {
   "cell_type": "code",
   "execution_count": 12,
   "id": "322b223f-445c-45e4-b902-89f72b458b55",
   "metadata": {},
   "outputs": [],
   "source": [
    "A = get_linear_transformation(a, b)"
   ]
  },
  {
   "cell_type": "code",
   "execution_count": 13,
   "id": "5827a162-6ac8-4344-8de0-c1524ae0b968",
   "metadata": {},
   "outputs": [
    {
     "data": {
      "text/plain": [
       "(6, 6)"
      ]
     },
     "execution_count": 13,
     "metadata": {},
     "output_type": "execute_result"
    }
   ],
   "source": [
    "A.shape"
   ]
  },
  {
   "cell_type": "code",
   "execution_count": 14,
   "id": "d2ad03d8-0308-4059-9e0b-9d742d0a0a84",
   "metadata": {},
   "outputs": [
    {
     "data": {
      "text/plain": [
       "array([71., 35., 12.,  1.,  0., 50.])"
      ]
     },
     "execution_count": 14,
     "metadata": {},
     "output_type": "execute_result"
    }
   ],
   "source": [
    "a.dot(A)"
   ]
  },
  {
   "cell_type": "code",
   "execution_count": null,
   "id": "03fd7f0c-7d7c-460c-b05f-65f832d34c60",
   "metadata": {},
   "outputs": [],
   "source": []
  }
 ],
 "metadata": {
  "kernelspec": {
   "display_name": "Python 3 (ipykernel)",
   "language": "python",
   "name": "python3"
  },
  "language_info": {
   "codemirror_mode": {
    "name": "ipython",
    "version": 3
   },
   "file_extension": ".py",
   "mimetype": "text/x-python",
   "name": "python",
   "nbconvert_exporter": "python",
   "pygments_lexer": "ipython3",
   "version": "3.10.9"
  }
 },
 "nbformat": 4,
 "nbformat_minor": 5
}
