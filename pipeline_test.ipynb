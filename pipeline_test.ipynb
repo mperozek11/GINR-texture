{
 "cells": [
  {
   "cell_type": "code",
   "execution_count": 1,
   "id": "2b7b401d-fd9e-4410-96cc-10a66048a9e8",
   "metadata": {},
   "outputs": [],
   "source": [
    "from mesh_dataset_utils import *\n",
    "from mesh_experiment import Experiment\n",
    "from MLP import MLP\n",
    "import torch\n",
    "from torch import nn\n",
    "from sklearn.model_selection import train_test_split\n",
    "from datetime import datetime\n",
    "import json\n",
    "import copy"
   ]
  },
  {
   "cell_type": "code",
   "execution_count": 3,
   "id": "1748b6bf-770d-46b8-9f30-ee78d4c15625",
   "metadata": {},
   "outputs": [],
   "source": [
    "path = 'meshes/rounderpixelcube.stl'\n",
    "tm = trimesh.load(path)"
   ]
  },
  {
   "cell_type": "code",
   "execution_count": null,
   "id": "0fd9a3a2-7b9e-43b5-9543-ff16c67b6574",
   "metadata": {},
   "outputs": [],
   "source": []
  },
  {
   "cell_type": "code",
   "execution_count": 16,
   "id": "32bdd29c-4c92-41c8-9360-d8b9768b1c2c",
   "metadata": {},
   "outputs": [],
   "source": [
    "DATASET_NAME = 'spikey_1_partial_smooth'"
   ]
  },
  {
   "cell_type": "code",
   "execution_count": 17,
   "id": "c6f9bb49-3b96-4cd4-a88e-3e3486bb07b3",
   "metadata": {},
   "outputs": [],
   "source": [
    "dataset = np.load(f'npz_train/{DATASET_NAME}.npz')"
   ]
  },
  {
   "cell_type": "code",
   "execution_count": 18,
   "id": "92d4f17c-0b13-48a5-bf84-3de2412c57ef",
   "metadata": {},
   "outputs": [],
   "source": [
    "X = dataset['fourier']\n",
    "y = dataset['target']"
   ]
  },
  {
   "cell_type": "code",
   "execution_count": 19,
   "id": "23df78ea-d012-48d4-8e12-9c702402b61b",
   "metadata": {},
   "outputs": [
    {
     "data": {
      "text/plain": [
       "(42787, 100)"
      ]
     },
     "execution_count": 19,
     "metadata": {},
     "output_type": "execute_result"
    }
   ],
   "source": [
    "X.shape"
   ]
  },
  {
   "cell_type": "code",
   "execution_count": 20,
   "id": "24c13d4c-b1d8-4a3c-b8a7-8e4ffa74e4be",
   "metadata": {},
   "outputs": [
    {
     "data": {
      "text/plain": [
       "(42787, 3)"
      ]
     },
     "execution_count": 20,
     "metadata": {},
     "output_type": "execute_result"
    }
   ],
   "source": [
    "y.shape"
   ]
  },
  {
   "cell_type": "code",
   "execution_count": 21,
   "id": "644ead00-b5bf-4070-8eb4-974a4050d42b",
   "metadata": {},
   "outputs": [],
   "source": [
    "X_train, X_test, y_train, y_test = train_test_split(X, y, test_size=0.15, random_state=11)"
   ]
  },
  {
   "cell_type": "code",
   "execution_count": 22,
   "id": "dfa64022-0852-4c37-b83a-258b8dad6359",
   "metadata": {},
   "outputs": [],
   "source": [
    "batch_size = 1000\n",
    "train_data = torch.utils.data.TensorDataset(torch.tensor(X_train).float(), torch.tensor(y_train).float())\n",
    "train_loader = torch.utils.data.DataLoader(train_data, batch_size=batch_size, shuffle=True)\n",
    "\n",
    "test_data = torch.utils.data.TensorDataset(torch.tensor(X_test).float(), torch.tensor(y_test).float())\n",
    "test_loader = torch.utils.data.DataLoader(test_data, batch_size=batch_size, shuffle=True)"
   ]
  },
  {
   "cell_type": "code",
   "execution_count": 32,
   "id": "389962c7-d169-432a-a76e-e50ef4c660bf",
   "metadata": {},
   "outputs": [],
   "source": [
    "model = MLP(\n",
    "            input_dim=X.shape[1],\n",
    "            output_dim=y.shape[1],\n",
    "            hidden_dim=512,\n",
    "            n_layers=6,\n",
    "            geometric_init=True,\n",
    "            beta=True,\n",
    "            sine=True,\n",
    "            all_sine=True,\n",
    "            skip=True,\n",
    "            bn=True,\n",
    "            dropout=0.0\n",
    "            )"
   ]
  },
  {
   "cell_type": "code",
   "execution_count": 33,
   "id": "70e70113-b4b2-4fd2-9deb-229ced3cd75f",
   "metadata": {},
   "outputs": [],
   "source": [
    "lr=1e-4\n",
    "optimizer = torch.optim.Adam(model.parameters(), lr=lr)\n",
    "loss_fn = nn.MSELoss()\n",
    "epochs = 5\n",
    "rand_inits = 3\n",
    "now = datetime.now()\n",
    "\n",
    "OUT_DIR = f'experiments/{now.strftime(\"%m_%d_%y_%H:%M:%S\")}_{DATASET_NAME}'\n",
    "model_info = {'test': 'TEST!!'}"
   ]
  },
  {
   "cell_type": "code",
   "execution_count": 34,
   "id": "8c0cf5bf-6c26-4d3b-97c9-056031dd8946",
   "metadata": {},
   "outputs": [
    {
     "data": {
      "text/plain": [
       "'experiments/04_14_23_13:37:15_spikey_1_partial_smooth'"
      ]
     },
     "execution_count": 34,
     "metadata": {},
     "output_type": "execute_result"
    }
   ],
   "source": [
    "OUT_DIR"
   ]
  },
  {
   "cell_type": "code",
   "execution_count": 35,
   "id": "a1d1dafa-90ff-4c58-9134-12260780640a",
   "metadata": {},
   "outputs": [],
   "source": [
    "exp = Experiment(model,\n",
    "                    optimizer,\n",
    "                    loss_fn,\n",
    "                    train_loader,\n",
    "                    test_loader,\n",
    "                    epochs,\n",
    "                    rand_inits,\n",
    "                    OUT_DIR,\n",
    "                    model_info,\n",
    "                    rand_seed=11)"
   ]
  },
  {
   "cell_type": "code",
   "execution_count": 36,
   "id": "ed5f7af3-7a92-4974-b0c0-eab717c3065c",
   "metadata": {},
   "outputs": [
    {
     "name": "stdout",
     "output_type": "stream",
     "text": [
      "started training for 5 epochs\n",
      "epoch 0 training loss: 0.86609309428447 eval loss: 0.7198881506919861\n",
      "started training for 5 epochs\n",
      "epoch 0 training loss: 0.8503258163864548 eval loss: 0.689596951007843\n",
      "started training for 5 epochs\n",
      "epoch 0 training loss: 0.8510825182940509 eval loss: 0.6367077231407166\n"
     ]
    }
   ],
   "source": [
    "log = exp.run()"
   ]
  },
  {
   "cell_type": "code",
   "execution_count": 37,
   "id": "200f6d52-c136-4f79-8fd4-54890252b736",
   "metadata": {
    "tags": []
   },
   "outputs": [
    {
     "data": {
      "text/plain": [
       "{'model': 'MLP(\\n  (model): ModuleList(\\n    (0): Linear(in_features=100, out_features=512, bias=True)\\n    (1): Sine()\\n    (2): LayerNorm((512,), eps=1e-05, elementwise_affine=True)\\n    (3): Linear(in_features=512, out_features=512, bias=True)\\n    (4): Sine()\\n    (5): LayerNorm((512,), eps=1e-05, elementwise_affine=True)\\n    (6): Linear(in_features=512, out_features=512, bias=True)\\n    (7): Sine()\\n    (8): LayerNorm((512,), eps=1e-05, elementwise_affine=True)\\n    (9): Linear(in_features=612, out_features=512, bias=True)\\n    (10): Sine()\\n    (11): LayerNorm((512,), eps=1e-05, elementwise_affine=True)\\n    (12): Linear(in_features=512, out_features=512, bias=True)\\n    (13): Sine()\\n    (14): LayerNorm((512,), eps=1e-05, elementwise_affine=True)\\n    (15): Linear(in_features=512, out_features=3, bias=True)\\n  )\\n)',\n",
       " 'optimizer': 'Adam (\\nParameter Group 0\\n    amsgrad: False\\n    betas: (0.9, 0.999)\\n    capturable: False\\n    eps: 1e-08\\n    foreach: None\\n    lr: 0.0001\\n    maximize: False\\n    weight_decay: 0\\n)',\n",
       " 'loss_fn': 'MSELoss()',\n",
       " 'epochs': 5,\n",
       " 'rand_inits': 3,\n",
       " 'rand_seed': 11,\n",
       " 'test': 'TEST!!',\n",
       " 'best_rand_init': 2,\n",
       " 'train_results': [{'run': 0,\n",
       "   'best_loss': 0.13365516066551208,\n",
       "   'train_losses': [0.86609309428447,\n",
       "    0.616282437298749,\n",
       "    0.4235406308560758,\n",
       "    0.2837601996756889,\n",
       "    0.18681807131380648],\n",
       "   'eval_losses': [0.7198881506919861,\n",
       "    0.4875236749649048,\n",
       "    0.36306148767471313,\n",
       "    0.2743307650089264,\n",
       "    0.13365516066551208]},\n",
       "  {'run': 1,\n",
       "   'best_loss': 0.07601739466190338,\n",
       "   'train_losses': [0.8503258163864548,\n",
       "    0.5527190131110113,\n",
       "    0.3539682594505516,\n",
       "    0.22705106477479678,\n",
       "    0.14616794843931455],\n",
       "   'eval_losses': [0.689596951007843,\n",
       "    0.4025322496891022,\n",
       "    0.2809543013572693,\n",
       "    0.16334953904151917,\n",
       "    0.07601739466190338]},\n",
       "  {'run': 2,\n",
       "   'best_loss': 0.13554923236370087,\n",
       "   'train_losses': [0.8510825182940509,\n",
       "    0.5547616288468644,\n",
       "    0.334653106895653,\n",
       "    0.21536471392657305,\n",
       "    0.1314015646238585],\n",
       "   'eval_losses': [0.6367077231407166,\n",
       "    0.4177759885787964,\n",
       "    0.31212854385375977,\n",
       "    0.14766594767570496,\n",
       "    0.13554923236370087]}]}"
      ]
     },
     "execution_count": 37,
     "metadata": {},
     "output_type": "execute_result"
    }
   ],
   "source": [
    "log"
   ]
  },
  {
   "cell_type": "code",
   "execution_count": 31,
   "id": "7d3f5a9c-e23e-4de0-99fa-2a2f2746d992",
   "metadata": {},
   "outputs": [
    {
     "data": {
      "text/plain": [
       "<matplotlib.legend.Legend at 0x13da76a70>"
      ]
     },
     "execution_count": 31,
     "metadata": {},
     "output_type": "execute_result"
    },
    {
     "data": {
      "image/png": "[encoded data removed]",
      "text/plain": [
       "<Figure size 640x480 with 1 Axes>"
      ]
     },
     "metadata": {},
     "output_type": "display_data"
    }
   ],
   "source": [
    "run_num = 2\n",
    "train_loss = log['train_results'][run_num]['train_losses']\n",
    "eval_loss = log['train_results'][run_num]['eval_losses']\n",
    "\n",
    "plt.scatter(range(len(train_loss)), train_loss, label='train loss')\n",
    "plt.scatter(range(len(eval_loss)), eval_loss, label='eval loss')\n",
    "plt.legend()"
   ]
  },
  {
   "cell_type": "code",
   "execution_count": null,
   "id": "8d7b8913-0280-4b21-a753-77826de1f2da",
   "metadata": {},
   "outputs": [],
   "source": []
  }
 ],
 "metadata": {
  "kernelspec": {
   "display_name": "Python 3 (ipykernel)",
   "language": "python",
   "name": "python3"
  },
  "language_info": {
   "codemirror_mode": {
    "name": "ipython",
    "version": 3
   },
   "file_extension": ".py",
   "mimetype": "text/x-python",
   "name": "python",
   "nbconvert_exporter": "python",
   "pygments_lexer": "ipython3",
   "version": "3.10.9"
  }
 },
 "nbformat": 4,
 "nbformat_minor": 5
}
