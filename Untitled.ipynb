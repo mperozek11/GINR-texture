{
 "cells": [
  {
   "cell_type": "code",
   "execution_count": 3,
   "id": "2b7b401d-fd9e-4410-96cc-10a66048a9e8",
   "metadata": {},
   "outputs": [
    {
     "ename": "AttributeError",
     "evalue": "module 'PyMesh' has no attribute 'triangle'",
     "output_type": "error",
     "traceback": [
      "\u001b[0;31m---------------------------------------------------------------------------\u001b[0m",
      "\u001b[0;31mAttributeError\u001b[0m                            Traceback (most recent call last)",
      "Cell \u001b[0;32mIn[3], line 1\u001b[0m\n\u001b[0;32m----> 1\u001b[0m \u001b[38;5;28;01mimport\u001b[39;00m \u001b[38;5;21;01mpymesh\u001b[39;00m\n",
      "File \u001b[0;32m~/opt/anaconda3/envs/mesh/lib/python3.10/site-packages/pymesh2-0.3-py3.10-macosx-10.9-x86_64.egg/pymesh/__init__.py:23\u001b[0m\n\u001b[1;32m     21\u001b[0m \u001b[38;5;28;01mfrom\u001b[39;00m \u001b[38;5;21;01m.\u001b[39;00m\u001b[38;5;21;01mboolean\u001b[39;00m \u001b[38;5;28;01mimport\u001b[39;00m boolean\n\u001b[1;32m     22\u001b[0m \u001b[38;5;28;01mfrom\u001b[39;00m \u001b[38;5;21;01m.\u001b[39;00m\u001b[38;5;21;01mcompression\u001b[39;00m \u001b[38;5;28;01mimport\u001b[39;00m compress, decompress\n\u001b[0;32m---> 23\u001b[0m \u001b[38;5;28;01mfrom\u001b[39;00m \u001b[38;5;21;01m.\u001b[39;00m\u001b[38;5;21;01mconvex_hull\u001b[39;00m \u001b[38;5;28;01mimport\u001b[39;00m convex_hull\n\u001b[1;32m     24\u001b[0m \u001b[38;5;28;01mfrom\u001b[39;00m \u001b[38;5;21;01m.\u001b[39;00m\u001b[38;5;21;01mCSGTree\u001b[39;00m \u001b[38;5;28;01mimport\u001b[39;00m CSGTree\n\u001b[1;32m     25\u001b[0m \u001b[38;5;28;01mfrom\u001b[39;00m \u001b[38;5;21;01m.\u001b[39;00m\u001b[38;5;21;01mcut_to_disk\u001b[39;00m \u001b[38;5;28;01mimport\u001b[39;00m cut_to_disk\n",
      "File \u001b[0;32m~/opt/anaconda3/envs/mesh/lib/python3.10/site-packages/pymesh2-0.3-py3.10-macosx-10.9-x86_64.egg/pymesh/convex_hull.py:5\u001b[0m\n\u001b[1;32m      3\u001b[0m \u001b[38;5;28;01mimport\u001b[39;00m \u001b[38;5;21;01mnumpy\u001b[39;00m \u001b[38;5;28;01mas\u001b[39;00m \u001b[38;5;21;01mnp\u001b[39;00m\n\u001b[1;32m      4\u001b[0m \u001b[38;5;28;01mfrom\u001b[39;00m \u001b[38;5;21;01m.\u001b[39;00m\u001b[38;5;21;01mmeshio\u001b[39;00m \u001b[38;5;28;01mimport\u001b[39;00m form_mesh\n\u001b[0;32m----> 5\u001b[0m \u001b[38;5;28;01mfrom\u001b[39;00m \u001b[38;5;21;01m.\u001b[39;00m\u001b[38;5;21;01mtriangle\u001b[39;00m \u001b[38;5;28;01mimport\u001b[39;00m triangle\n\u001b[1;32m      7\u001b[0m \u001b[38;5;28;01mdef\u001b[39;00m \u001b[38;5;21mconvex_hull\u001b[39m(mesh, engine\u001b[38;5;241m=\u001b[39m\u001b[38;5;124m\"\u001b[39m\u001b[38;5;124mauto\u001b[39m\u001b[38;5;124m\"\u001b[39m, with_timing\u001b[38;5;241m=\u001b[39m\u001b[38;5;28;01mFalse\u001b[39;00m):\n\u001b[1;32m      8\u001b[0m     \u001b[38;5;124;03m\"\"\"\u001b[39;00m\n\u001b[1;32m      9\u001b[0m \u001b[38;5;124;03m    Compute the convex hull of an input mesh.\u001b[39;00m\n\u001b[1;32m     10\u001b[0m \n\u001b[0;32m   (...)\u001b[0m\n\u001b[1;32m     29\u001b[0m \u001b[38;5;124;03m        * \"source_vertex\": An array of source vertex indices into the input mesh.\u001b[39;00m\n\u001b[1;32m     30\u001b[0m \u001b[38;5;124;03m    \"\"\"\u001b[39;00m\n",
      "File \u001b[0;32m~/opt/anaconda3/envs/mesh/lib/python3.10/site-packages/pymesh2-0.3-py3.10-macosx-10.9-x86_64.egg/pymesh/triangle.py:4\u001b[0m\n\u001b[1;32m      1\u001b[0m \u001b[38;5;28;01mimport\u001b[39;00m \u001b[38;5;21;01mPyMesh\u001b[39;00m\n\u001b[1;32m      2\u001b[0m \u001b[38;5;28;01mfrom\u001b[39;00m \u001b[38;5;21;01m.\u001b[39;00m\u001b[38;5;21;01mmeshio\u001b[39;00m \u001b[38;5;28;01mimport\u001b[39;00m form_mesh\n\u001b[0;32m----> 4\u001b[0m \u001b[38;5;28;01mclass\u001b[39;00m \u001b[38;5;21;01mtriangle\u001b[39;00m(\u001b[43mPyMesh\u001b[49m\u001b[38;5;241;43m.\u001b[39;49m\u001b[43mtriangle\u001b[49m):\n\u001b[1;32m      5\u001b[0m     \u001b[38;5;124;03m\"\"\" Wrapper around `Shewchuk's triangle\u001b[39;00m\n\u001b[1;32m      6\u001b[0m \u001b[38;5;124;03m    <https://www.cs.cmu.edu/~quake/triangle.html>`_.\u001b[39;00m\n\u001b[1;32m      7\u001b[0m \n\u001b[0;32m   (...)\u001b[0m\n\u001b[1;32m    109\u001b[0m \n\u001b[1;32m    110\u001b[0m \u001b[38;5;124;03m    \"\"\"\u001b[39;00m\n\u001b[1;32m    111\u001b[0m     \u001b[38;5;129m@property\u001b[39m\n\u001b[1;32m    112\u001b[0m     \u001b[38;5;28;01mdef\u001b[39;00m \u001b[38;5;21mmesh\u001b[39m(\u001b[38;5;28mself\u001b[39m):\n",
      "\u001b[0;31mAttributeError\u001b[0m: module 'PyMesh' has no attribute 'triangle'"
     ]
    }
   ],
   "source": [
    "import pymesh"
   ]
  },
  {
   "cell_type": "code",
   "execution_count": null,
   "id": "a1d1dafa-90ff-4c58-9134-12260780640a",
   "metadata": {},
   "outputs": [],
   "source": []
  }
 ],
 "metadata": {
  "kernelspec": {
   "display_name": "Python 3 (ipykernel)",
   "language": "python",
   "name": "python3"
  },
  "language_info": {
   "codemirror_mode": {
    "name": "ipython",
    "version": 3
   },
   "file_extension": ".py",
   "mimetype": "text/x-python",
   "name": "python",
   "nbconvert_exporter": "python",
   "pygments_lexer": "ipython3",
   "version": "3.10.9"
  }
 },
 "nbformat": 4,
 "nbformat_minor": 5
}
