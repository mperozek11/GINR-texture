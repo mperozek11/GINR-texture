{
 "cells": [
  {
   "cell_type": "code",
   "execution_count": 1,
   "id": "f13c91fe-fce9-4a98-9fbe-1865f4c3a176",
   "metadata": {},
   "outputs": [],
   "source": [
    "import numpy as np\n",
    "import trimesh\n",
    "import networkx as nx"
   ]
  },
  {
   "cell_type": "markdown",
   "id": "068ab413-0671-4637-90fc-9c77ef7b3417",
   "metadata": {},
   "source": [
    "### Eigenmap"
   ]
  },
  {
   "cell_type": "code",
   "execution_count": 8,
   "id": "02ba95a7-216d-43d8-a866-63ecd4d1b079",
   "metadata": {},
   "outputs": [],
   "source": [
    "# gr : nx Graph\n",
    "# k : k-largest eigenvalues\n",
    "def laplacian_eigenmap(gr, k):\n",
    "    lap = nx.laplacian_matrix(gr).todense()\n",
    "    eigs = np.linalg.eig(lap)\n",
    "    \n",
    "    e_vals = eigs[0]\n",
    "    e_vec_idxs = []\n",
    "    for i in range(k):\n",
    "        max_idx = np.where(e_vals == e_vals.max())\n",
    "        e_vec_idxs.append(max_idx)\n",
    "        e_vals[max_idx] = -1e10\n",
    "    \n",
    "    print(eigs[1].shape)\n",
    "    return eigs[1][:,e_vec_idxs].reshape((data_matrix.shape[0], k))"
   ]
  },
  {
   "cell_type": "markdown",
   "id": "56e5fb1c-530a-4ef4-95e2-03b3a10bad1c",
   "metadata": {},
   "source": [
    "### Data"
   ]
  },
  {
   "cell_type": "code",
   "execution_count": 4,
   "id": "1c17f656-b842-4043-aae4-1f03af0102e9",
   "metadata": {},
   "outputs": [],
   "source": [
    "golfball_2 = trimesh.load('/Users/maxperozek/GINR-texture/Golf_Ball_1640986/files/golf-ball.STL')"
   ]
  },
  {
   "cell_type": "code",
   "execution_count": 5,
   "id": "67db4c7a-1f85-4bad-82a5-a7ac50bdf514",
   "metadata": {},
   "outputs": [],
   "source": [
    "graph = nx.Graph()"
   ]
  },
  {
   "cell_type": "code",
   "execution_count": 7,
   "id": "3beefe49-ddb5-42f6-adb7-3f86f13cd4cd",
   "metadata": {},
   "outputs": [],
   "source": [
    "graph.add_edges_from(golfball_2.face_adjacency)"
   ]
  },
  {
   "cell_type": "code",
   "execution_count": null,
   "id": "11142c37-3147-4593-9c7f-8fe798a8a07f",
   "metadata": {},
   "outputs": [
    {
     "name": "stderr",
     "output_type": "stream",
     "text": [
      "<class 'networkx.utils.decorators.argmap'> compilation 4:4: FutureWarning: laplacian_matrix will return a scipy.sparse array instead of a matrix in Networkx 3.0.\n"
     ]
    }
   ],
   "source": [
    "eig = laplacian_eigenmap(graph, 100)"
   ]
  },
  {
   "cell_type": "code",
   "execution_count": null,
   "id": "785ced73-5846-4e53-92e6-a163ba8f1c2e",
   "metadata": {},
   "outputs": [],
   "source": []
  }
 ],
 "metadata": {
  "kernelspec": {
   "display_name": "Python 3 (ipykernel)",
   "language": "python",
   "name": "python3"
  },
  "language_info": {
   "codemirror_mode": {
    "name": "ipython",
    "version": 3
   },
   "file_extension": ".py",
   "mimetype": "text/x-python",
   "name": "python",
   "nbconvert_exporter": "python",
   "pygments_lexer": "ipython3",
   "version": "3.10.4"
  }
 },
 "nbformat": 4,
 "nbformat_minor": 5
}
