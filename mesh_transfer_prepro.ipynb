{
 "cells": [
  {
   "cell_type": "code",
   "execution_count": 27,
   "id": "f13c91fe-fce9-4a98-9fbe-1865f4c3a176",
   "metadata": {},
   "outputs": [],
   "source": [
    "import numpy as np\n",
    "import trimesh\n",
    "import networkx as nx\n",
    "import scipy"
   ]
  },
  {
   "cell_type": "markdown",
   "id": "068ab413-0671-4637-90fc-9c77ef7b3417",
   "metadata": {},
   "source": [
    "### Eigenmap"
   ]
  },
  {
   "cell_type": "code",
   "execution_count": 90,
   "id": "02ba95a7-216d-43d8-a866-63ecd4d1b079",
   "metadata": {},
   "outputs": [],
   "source": [
    "# gr : nx Graph\n",
    "# k : k-largest eigenvalues\n",
    "\n",
    "# **** Something about the code that generates eigendecomposition is incorrect. Only getting 6 eigenvalues, and none of them are 0 (at least one should be 0)\n",
    "def laplacian_eigenmap(gr, k):\n",
    "    lap = nx.laplacian_matrix(gr)\n",
    "    lap = lap.asfptype()\n",
    "    eigs = scipy.sparse.linalg.eigs(lap)\n",
    "    e_vals = eigs[0]\n",
    "    print(f'eig vals: {e_vals}')\n",
    "    e_vecs = eigs[1]\n",
    "    \n",
    "    print(e_vecs)\n",
    "    print('\\n')\n",
    "    print('\\n')\n",
    "    print(e_vecs[:,0])\n",
    "    print(e_vecs[:,0].shape)\n",
    "    \n",
    "    e_vec_idxs = []\n",
    "    for i in range(k):\n",
    "        max_idx = np.where(e_vals == e_vals.max())\n",
    "        print(max_idx)\n",
    "        e_vec_idxs.append(max_idx)\n",
    "        e_vals[max_idx] = -1e10\n",
    "    \n",
    "    print(eigs[1].shape)\n",
    "    return eigs[1][:,e_vec_idxs].reshape((data_matrix.shape[0], k))"
   ]
  },
  {
   "cell_type": "markdown",
   "id": "56e5fb1c-530a-4ef4-95e2-03b3a10bad1c",
   "metadata": {},
   "source": [
    "### Data"
   ]
  },
  {
   "cell_type": "code",
   "execution_count": 91,
   "id": "1c17f656-b842-4043-aae4-1f03af0102e9",
   "metadata": {},
   "outputs": [],
   "source": [
    "golfball_2 = trimesh.load('/Users/maxperozek/GINR-texture/Golf_Ball_1640986/files/golf-ball.STL')"
   ]
  },
  {
   "cell_type": "code",
   "execution_count": 92,
   "id": "67db4c7a-1f85-4bad-82a5-a7ac50bdf514",
   "metadata": {},
   "outputs": [],
   "source": [
    "graph = nx.Graph()"
   ]
  },
  {
   "cell_type": "code",
   "execution_count": 93,
   "id": "87c2b527-41a7-4def-9411-b6ce45e6145a",
   "metadata": {},
   "outputs": [
    {
     "data": {
      "text/plain": [
       "False"
      ]
     },
     "execution_count": 93,
     "metadata": {},
     "output_type": "execute_result"
    }
   ],
   "source": [
    "graph.is_directed()"
   ]
  },
  {
   "cell_type": "code",
   "execution_count": 94,
   "id": "3beefe49-ddb5-42f6-adb7-3f86f13cd4cd",
   "metadata": {},
   "outputs": [],
   "source": [
    "graph.add_edges_from(golfball_2.face_adjacency)"
   ]
  },
  {
   "cell_type": "code",
   "execution_count": 95,
   "id": "11142c37-3147-4593-9c7f-8fe798a8a07f",
   "metadata": {},
   "outputs": [
    {
     "name": "stdout",
     "output_type": "stream",
     "text": [
      "eig vals: [5.98731827+0.j 5.98731827+0.j 5.98683101+0.j 5.98683103+0.j\n",
      " 5.98471268+0.j 5.98471264+0.j]\n",
      "[[-1.33053758e-08+0.j  4.75102988e-03+0.j  8.49128599e-03+0.j\n",
      "  -2.64153544e-09+0.j -6.41320599e-12+0.j -1.82244226e-04+0.j]\n",
      " [ 7.64207100e-09+0.j -2.72880473e-03+0.j -5.76749486e-03+0.j\n",
      "   1.79418745e-09+0.j  4.74131705e-12+0.j  1.34477675e-04+0.j]\n",
      " [ 2.13505710e-08+0.j -7.62372010e-03+0.j -3.50397916e-03+0.j\n",
      "   1.09015683e-09+0.j -1.71670275e-12+0.j -4.58811855e-05+0.j]\n",
      " ...\n",
      " [-1.18667495e-13+0.j -5.57579180e-17+0.j  3.42263448e-16+0.j\n",
      "   1.21048516e-14+0.j -4.74483035e-16+0.j -2.50250943e-15+0.j]\n",
      " [ 2.65908941e-13+0.j -5.84654382e-16+0.j  1.30278191e-15+0.j\n",
      "  -2.77266505e-14+0.j  9.82963336e-17+0.j -7.77684028e-15+0.j]\n",
      " [-6.08145891e-14+0.j  2.01507856e-16+0.j -7.02397153e-16+0.j\n",
      "   6.45685594e-15+0.j  1.75528244e-16+0.j  4.88530122e-15+0.j]]\n",
      "\n",
      "\n",
      "\n",
      "\n",
      "[-1.33053758e-08+0.j  7.64207100e-09+0.j  2.13505710e-08+0.j ...\n",
      " -1.18667495e-13+0.j  2.65908941e-13+0.j -6.08145891e-14+0.j]\n",
      "(36686,)\n",
      "(array([0]),)\n",
      "(array([1]),)\n",
      "(array([3]),)\n",
      "(array([2]),)\n",
      "(array([4]),)\n",
      "(array([5]),)\n",
      "(array([0, 1, 2, 3, 4, 5]),)\n",
      "(array([0, 1, 2, 3, 4, 5]),)\n",
      "(array([0, 1, 2, 3, 4, 5]),)\n",
      "(array([0, 1, 2, 3, 4, 5]),)\n",
      "(array([0, 1, 2, 3, 4, 5]),)\n",
      "(array([0, 1, 2, 3, 4, 5]),)\n",
      "(array([0, 1, 2, 3, 4, 5]),)\n",
      "(array([0, 1, 2, 3, 4, 5]),)\n",
      "(array([0, 1, 2, 3, 4, 5]),)\n",
      "(array([0, 1, 2, 3, 4, 5]),)\n",
      "(array([0, 1, 2, 3, 4, 5]),)\n",
      "(array([0, 1, 2, 3, 4, 5]),)\n",
      "(array([0, 1, 2, 3, 4, 5]),)\n",
      "(array([0, 1, 2, 3, 4, 5]),)\n",
      "(array([0, 1, 2, 3, 4, 5]),)\n",
      "(array([0, 1, 2, 3, 4, 5]),)\n",
      "(array([0, 1, 2, 3, 4, 5]),)\n",
      "(array([0, 1, 2, 3, 4, 5]),)\n",
      "(array([0, 1, 2, 3, 4, 5]),)\n",
      "(array([0, 1, 2, 3, 4, 5]),)\n",
      "(array([0, 1, 2, 3, 4, 5]),)\n",
      "(array([0, 1, 2, 3, 4, 5]),)\n",
      "(array([0, 1, 2, 3, 4, 5]),)\n",
      "(array([0, 1, 2, 3, 4, 5]),)\n",
      "(array([0, 1, 2, 3, 4, 5]),)\n",
      "(array([0, 1, 2, 3, 4, 5]),)\n",
      "(array([0, 1, 2, 3, 4, 5]),)\n",
      "(array([0, 1, 2, 3, 4, 5]),)\n",
      "(array([0, 1, 2, 3, 4, 5]),)\n",
      "(array([0, 1, 2, 3, 4, 5]),)\n",
      "(array([0, 1, 2, 3, 4, 5]),)\n",
      "(array([0, 1, 2, 3, 4, 5]),)\n",
      "(array([0, 1, 2, 3, 4, 5]),)\n",
      "(array([0, 1, 2, 3, 4, 5]),)\n",
      "(array([0, 1, 2, 3, 4, 5]),)\n",
      "(array([0, 1, 2, 3, 4, 5]),)\n",
      "(array([0, 1, 2, 3, 4, 5]),)\n",
      "(array([0, 1, 2, 3, 4, 5]),)\n",
      "(array([0, 1, 2, 3, 4, 5]),)\n",
      "(array([0, 1, 2, 3, 4, 5]),)\n",
      "(array([0, 1, 2, 3, 4, 5]),)\n",
      "(array([0, 1, 2, 3, 4, 5]),)\n",
      "(array([0, 1, 2, 3, 4, 5]),)\n",
      "(array([0, 1, 2, 3, 4, 5]),)\n",
      "(array([0, 1, 2, 3, 4, 5]),)\n",
      "(array([0, 1, 2, 3, 4, 5]),)\n",
      "(array([0, 1, 2, 3, 4, 5]),)\n",
      "(array([0, 1, 2, 3, 4, 5]),)\n",
      "(array([0, 1, 2, 3, 4, 5]),)\n",
      "(array([0, 1, 2, 3, 4, 5]),)\n",
      "(array([0, 1, 2, 3, 4, 5]),)\n",
      "(array([0, 1, 2, 3, 4, 5]),)\n",
      "(array([0, 1, 2, 3, 4, 5]),)\n",
      "(array([0, 1, 2, 3, 4, 5]),)\n",
      "(array([0, 1, 2, 3, 4, 5]),)\n",
      "(array([0, 1, 2, 3, 4, 5]),)\n",
      "(array([0, 1, 2, 3, 4, 5]),)\n",
      "(array([0, 1, 2, 3, 4, 5]),)\n",
      "(array([0, 1, 2, 3, 4, 5]),)\n",
      "(array([0, 1, 2, 3, 4, 5]),)\n",
      "(array([0, 1, 2, 3, 4, 5]),)\n",
      "(array([0, 1, 2, 3, 4, 5]),)\n",
      "(array([0, 1, 2, 3, 4, 5]),)\n",
      "(array([0, 1, 2, 3, 4, 5]),)\n",
      "(array([0, 1, 2, 3, 4, 5]),)\n",
      "(array([0, 1, 2, 3, 4, 5]),)\n",
      "(array([0, 1, 2, 3, 4, 5]),)\n",
      "(array([0, 1, 2, 3, 4, 5]),)\n",
      "(array([0, 1, 2, 3, 4, 5]),)\n",
      "(array([0, 1, 2, 3, 4, 5]),)\n",
      "(array([0, 1, 2, 3, 4, 5]),)\n",
      "(array([0, 1, 2, 3, 4, 5]),)\n",
      "(array([0, 1, 2, 3, 4, 5]),)\n",
      "(array([0, 1, 2, 3, 4, 5]),)\n",
      "(array([0, 1, 2, 3, 4, 5]),)\n",
      "(array([0, 1, 2, 3, 4, 5]),)\n",
      "(array([0, 1, 2, 3, 4, 5]),)\n",
      "(array([0, 1, 2, 3, 4, 5]),)\n",
      "(array([0, 1, 2, 3, 4, 5]),)\n",
      "(array([0, 1, 2, 3, 4, 5]),)\n",
      "(array([0, 1, 2, 3, 4, 5]),)\n",
      "(array([0, 1, 2, 3, 4, 5]),)\n",
      "(array([0, 1, 2, 3, 4, 5]),)\n",
      "(array([0, 1, 2, 3, 4, 5]),)\n",
      "(array([0, 1, 2, 3, 4, 5]),)\n",
      "(array([0, 1, 2, 3, 4, 5]),)\n",
      "(array([0, 1, 2, 3, 4, 5]),)\n",
      "(array([0, 1, 2, 3, 4, 5]),)\n",
      "(array([0, 1, 2, 3, 4, 5]),)\n",
      "(array([0, 1, 2, 3, 4, 5]),)\n",
      "(array([0, 1, 2, 3, 4, 5]),)\n",
      "(array([0, 1, 2, 3, 4, 5]),)\n",
      "(array([0, 1, 2, 3, 4, 5]),)\n",
      "(array([0, 1, 2, 3, 4, 5]),)\n",
      "(36686, 6)\n"
     ]
    },
    {
     "name": "stderr",
     "output_type": "stream",
     "text": [
      "/var/folders/ms/mpc19fxd7zz_dr0tr65kskdh0000gn/T/ipykernel_37940/660025936.py:25: VisibleDeprecationWarning: Creating an ndarray from ragged nested sequences (which is a list-or-tuple of lists-or-tuples-or ndarrays with different lengths or shapes) is deprecated. If you meant to do this, you must specify 'dtype=object' when creating the ndarray.\n",
      "  return eigs[1][:,e_vec_idxs].reshape((data_matrix.shape[0], k))\n"
     ]
    },
    {
     "ename": "IndexError",
     "evalue": "only integers, slices (`:`), ellipsis (`...`), numpy.newaxis (`None`) and integer or boolean arrays are valid indices",
     "output_type": "error",
     "traceback": [
      "\u001b[0;31m---------------------------------------------------------------------------\u001b[0m",
      "\u001b[0;31mIndexError\u001b[0m                                Traceback (most recent call last)",
      "Cell \u001b[0;32mIn[95], line 1\u001b[0m\n\u001b[0;32m----> 1\u001b[0m eig \u001b[38;5;241m=\u001b[39m \u001b[43mlaplacian_eigenmap\u001b[49m\u001b[43m(\u001b[49m\u001b[43mgraph\u001b[49m\u001b[43m,\u001b[49m\u001b[43m \u001b[49m\u001b[38;5;241;43m100\u001b[39;49m\u001b[43m)\u001b[49m\n",
      "Cell \u001b[0;32mIn[90], line 25\u001b[0m, in \u001b[0;36mlaplacian_eigenmap\u001b[0;34m(gr, k)\u001b[0m\n\u001b[1;32m     22\u001b[0m     e_vals[max_idx] \u001b[38;5;241m=\u001b[39m \u001b[38;5;241m-\u001b[39m\u001b[38;5;241m1e10\u001b[39m\n\u001b[1;32m     24\u001b[0m \u001b[38;5;28mprint\u001b[39m(eigs[\u001b[38;5;241m1\u001b[39m]\u001b[38;5;241m.\u001b[39mshape)\n\u001b[0;32m---> 25\u001b[0m \u001b[38;5;28;01mreturn\u001b[39;00m \u001b[43meigs\u001b[49m\u001b[43m[\u001b[49m\u001b[38;5;241;43m1\u001b[39;49m\u001b[43m]\u001b[49m\u001b[43m[\u001b[49m\u001b[43m:\u001b[49m\u001b[43m,\u001b[49m\u001b[43me_vec_idxs\u001b[49m\u001b[43m]\u001b[49m\u001b[38;5;241m.\u001b[39mreshape((data_matrix\u001b[38;5;241m.\u001b[39mshape[\u001b[38;5;241m0\u001b[39m], k))\n",
      "\u001b[0;31mIndexError\u001b[0m: only integers, slices (`:`), ellipsis (`...`), numpy.newaxis (`None`) and integer or boolean arrays are valid indices"
     ]
    }
   ],
   "source": [
    "eig = laplacian_eigenmap(graph, 100)"
   ]
  },
  {
   "cell_type": "code",
   "execution_count": null,
   "id": "785ced73-5846-4e53-92e6-a163ba8f1c2e",
   "metadata": {},
   "outputs": [],
   "source": []
  }
 ],
 "metadata": {
  "kernelspec": {
   "display_name": "Python 3 (ipykernel)",
   "language": "python",
   "name": "python3"
  },
  "language_info": {
   "codemirror_mode": {
    "name": "ipython",
    "version": 3
   },
   "file_extension": ".py",
   "mimetype": "text/x-python",
   "name": "python",
   "nbconvert_exporter": "python",
   "pygments_lexer": "ipython3",
   "version": "3.10.4"
  }
 },
 "nbformat": 4,
 "nbformat_minor": 5
}
