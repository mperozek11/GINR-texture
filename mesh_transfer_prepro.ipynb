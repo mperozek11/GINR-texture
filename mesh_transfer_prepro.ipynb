{
 "cells": [
  {
   "cell_type": "code",
   "execution_count": 43,
   "id": "f13c91fe-fce9-4a98-9fbe-1865f4c3a176",
   "metadata": {},
   "outputs": [],
   "source": [
    "import numpy as np\n",
    "import trimesh\n",
    "import networkx as nx\n",
    "import scipy\n",
    "import matplotlib.pyplot as plt"
   ]
  },
  {
   "cell_type": "markdown",
   "id": "068ab413-0671-4637-90fc-9c77ef7b3417",
   "metadata": {},
   "source": [
    "### Spectral Embedding"
   ]
  },
  {
   "cell_type": "code",
   "execution_count": 23,
   "id": "02ba95a7-216d-43d8-a866-63ecd4d1b079",
   "metadata": {},
   "outputs": [],
   "source": [
    "# gr : nx Graph\n",
    "# k : k-largest eigenvalues\n",
    "\n",
    "# returns ndarray with shape N x k\n",
    "# for N = number of nodes in gr \n",
    "#     k = number of eigenvalues \n",
    "def laplacian_eigenmap(gr, k):\n",
    "    lap = nx.laplacian_matrix(gr)\n",
    "    lap = lap.asfptype()\n",
    "    eigs = scipy.sparse.linalg.eigs(lap, k=k)\n",
    "    e_vals = eigs[0]\n",
    "    e_vecs = eigs[1]\n",
    "    \n",
    "    # N = len(gr.nodes)\n",
    "    # spec_emb = np.zeros((N, k))\n",
    "    # for i in range(N):\n",
    "    #     spec_emb[i] = e_vecs[]\n",
    "    \n",
    "    return e_vals, e_vecs"
   ]
  },
  {
   "cell_type": "markdown",
   "id": "56e5fb1c-530a-4ef4-95e2-03b3a10bad1c",
   "metadata": {},
   "source": [
    "### Data"
   ]
  },
  {
   "cell_type": "code",
   "execution_count": 140,
   "id": "1c17f656-b842-4043-aae4-1f03af0102e9",
   "metadata": {},
   "outputs": [],
   "source": [
    "golfball_2 = trimesh.load('/Users/maxperozek/GINR-texture/Golf_Ball_1640986/files/golf-ball.STL')"
   ]
  },
  {
   "cell_type": "code",
   "execution_count": 141,
   "id": "67db4c7a-1f85-4bad-82a5-a7ac50bdf514",
   "metadata": {},
   "outputs": [],
   "source": [
    "graph = nx.Graph()"
   ]
  },
  {
   "cell_type": "code",
   "execution_count": 142,
   "id": "87c2b527-41a7-4def-9411-b6ce45e6145a",
   "metadata": {},
   "outputs": [
    {
     "data": {
      "text/plain": [
       "False"
      ]
     },
     "execution_count": 142,
     "metadata": {},
     "output_type": "execute_result"
    }
   ],
   "source": [
    "graph.is_directed()"
   ]
  },
  {
   "cell_type": "code",
   "execution_count": 143,
   "id": "3beefe49-ddb5-42f6-adb7-3f86f13cd4cd",
   "metadata": {},
   "outputs": [],
   "source": [
    "# *** presumably this means that each face triange becomes a node, and polygon adjacency defines the graph structure, rather than vertex adjacency\n",
    "# Is this right?? ^^\n",
    "graph.add_edges_from(golfball_2.face_adjacency)"
   ]
  },
  {
   "cell_type": "code",
   "execution_count": 27,
   "id": "37b60335-f681-410f-8c18-fe3bdd90a6b1",
   "metadata": {},
   "outputs": [],
   "source": [
    "graph = nx.karate_club_graph()"
   ]
  },
  {
   "cell_type": "code",
   "execution_count": 28,
   "id": "c49d07b5-85b2-4844-8246-26c8007105bf",
   "metadata": {},
   "outputs": [
    {
     "data": {
      "text/plain": [
       "34"
      ]
     },
     "execution_count": 28,
     "metadata": {},
     "output_type": "execute_result"
    }
   ],
   "source": [
    "len(graph.nodes)"
   ]
  },
  {
   "cell_type": "code",
   "execution_count": 9,
   "id": "4d990513-ec67-4052-805c-b3dd272f85c5",
   "metadata": {},
   "outputs": [
    {
     "name": "stderr",
     "output_type": "stream",
     "text": [
      "<class 'networkx.utils.decorators.argmap'> compilation 4:4: FutureWarning: laplacian_matrix will return a scipy.sparse array instead of a matrix in Networkx 3.0.\n"
     ]
    }
   ],
   "source": [
    "lap = nx.laplacian_matrix(graph)\n",
    "lap = lap.asfptype()\n",
    "eigs = scipy.sparse.linalg.eigs(lap, k=10)"
   ]
  },
  {
   "cell_type": "code",
   "execution_count": 10,
   "id": "70b1847a-1c81-4a24-9471-9ec78fe5f0aa",
   "metadata": {},
   "outputs": [
    {
     "name": "stdout",
     "output_type": "stream",
     "text": [
      "(10,)\n"
     ]
    },
    {
     "data": {
      "text/plain": [
       "array([52.06534104+0.j, 45.99076814+0.j, 41.8328632 +0.j, 37.99275584+0.j,\n",
       "       29.68838404+0.j, 25.55550393+0.j, 22.78496303+0.j, 21.35865043+0.j,\n",
       "       19.32382398+0.j, 17.03379508+0.j])"
      ]
     },
     "execution_count": 10,
     "metadata": {},
     "output_type": "execute_result"
    }
   ],
   "source": [
    "# k=100 eigenvalues:\n",
    "print(eigs[0].shape)\n",
    "eigs[0]"
   ]
  },
  {
   "cell_type": "code",
   "execution_count": 11,
   "id": "1bfcc2c3-2ca1-43a7-b243-66676233bdd6",
   "metadata": {},
   "outputs": [
    {
     "name": "stdout",
     "output_type": "stream",
     "text": [
      "(34, 10)\n"
     ]
    }
   ],
   "source": [
    "# n x k=100 matrix of eigenvalues\n",
    "print(eigs[1].shape)"
   ]
  },
  {
   "cell_type": "code",
   "execution_count": 12,
   "id": "6d7bf373-de50-415d-a48e-64d4021c8cd8",
   "metadata": {},
   "outputs": [
    {
     "data": {
      "text/plain": [
       "array([-4.11229204e-02+0.j, -2.13938999e-03+0.j, -6.95734090e-02+0.j,\n",
       "        1.10525222e-03+0.j,  2.57515842e-03+0.j,  2.79680395e-03+0.j,\n",
       "        2.69567635e-03+0.j,  9.36331977e-03+0.j,  9.65460354e-02+0.j,\n",
       "        3.97500408e-02+0.j,  1.50072488e-03+0.j,  2.51437692e-03+0.j,\n",
       "        7.86578498e-04+0.j,  9.01355566e-02+0.j,  2.57268009e-02+0.j,\n",
       "        6.86029770e-02+0.j, -3.57697144e-04+0.j,  1.71985416e-03+0.j,\n",
       "        3.37807527e-02+0.j,  2.18188703e-02+0.j,  5.62677184e-03+0.j,\n",
       "        1.80014578e-03+0.j,  5.04519951e-02+0.j,  7.61827290e-02+0.j,\n",
       "       -9.34957338e-03+0.j, -2.77751892e-02+0.j,  3.94925306e-02+0.j,\n",
       "        9.27680733e-02+0.j,  3.95380736e-02+0.j,  1.53847524e-02+0.j,\n",
       "        4.54365953e-02+0.j,  9.92939356e-02+0.j,  2.23311747e-01+0.j,\n",
       "       -9.40387950e-01+0.j])"
      ]
     },
     "execution_count": 12,
     "metadata": {},
     "output_type": "execute_result"
    }
   ],
   "source": [
    "# this should be the eigenvector corresponding to eigenvalue 0\n",
    "eigs[1][:,0]"
   ]
  },
  {
   "cell_type": "code",
   "execution_count": 16,
   "id": "a8d02a78-285a-4df1-a109-d632c11c0d41",
   "metadata": {},
   "outputs": [],
   "source": [
    "eig_test = lap.dot(eigs[1][:,0])"
   ]
  },
  {
   "cell_type": "code",
   "execution_count": 17,
   "id": "467f630c-4fb7-4d46-bc60-86d27f7f8a20",
   "metadata": {},
   "outputs": [
    {
     "data": {
      "text/plain": [
       "(34,)"
      ]
     },
     "execution_count": 17,
     "metadata": {},
     "output_type": "execute_result"
    }
   ],
   "source": [
    "eig_test.shape"
   ]
  },
  {
   "cell_type": "code",
   "execution_count": 18,
   "id": "9db44069-710f-4f75-9457-c7b588c129dc",
   "metadata": {},
   "outputs": [
    {
     "data": {
      "text/plain": [
       "array([False, False, False, False, False, False, False, False,  True,\n",
       "       False, False, False, False, False, False, False, False, False,\n",
       "       False, False, False, False, False, False, False, False, False,\n",
       "       False, False, False, False, False, False, False])"
      ]
     },
     "execution_count": 18,
     "metadata": {},
     "output_type": "execute_result"
    }
   ],
   "source": [
    "eig_test == eigs[1][:,0] * eigs[0][0]"
   ]
  },
  {
   "cell_type": "code",
   "execution_count": 19,
   "id": "0c9f59e5-9244-4038-afc9-2cda6aaa9cf3",
   "metadata": {},
   "outputs": [
    {
     "data": {
      "text/plain": [
       "array([-2.14107888e+00+0.j, -1.11388069e-01+0.j, -3.62236327e+00+0.j,\n",
       "        5.75453337e-02+0.j,  1.34076501e-01+0.j,  1.45616552e-01+0.j,\n",
       "        1.40351309e-01+0.j,  4.87504437e-01+0.j,  5.02670226e+00+0.j,\n",
       "        2.06959943e+00+0.j,  7.81357528e-02+0.j,  1.30911892e-01+0.j,\n",
       "        4.09534778e-02+0.j,  4.69293849e+00+0.j,  1.33947466e+00+0.j,\n",
       "        3.57183740e+00+0.j, -1.86236238e-02+0.j,  8.95447933e-02+0.j,\n",
       "        1.75880641e+00+0.j,  1.13600692e+00+0.j,  2.92959795e-01+0.j,\n",
       "        9.37252040e-02+0.j,  2.62680033e+00+0.j,  3.96647977e+00+0.j,\n",
       "       -4.86788727e-01+0.j, -1.44612470e+00+0.j,  2.05619207e+00+0.j,\n",
       "        4.83000137e+00+0.j,  2.05856329e+00+0.j,  8.01012382e-01+0.j,\n",
       "        2.36567183e+00+0.j,  5.16977262e+00+0.j,  1.16268023e+01+0.j,\n",
       "       -4.89616193e+01+0.j])"
      ]
     },
     "execution_count": 19,
     "metadata": {},
     "output_type": "execute_result"
    }
   ],
   "source": [
    "eig_test"
   ]
  },
  {
   "cell_type": "code",
   "execution_count": 20,
   "id": "46c69255-41d6-4432-a1d0-c5c2aef207d0",
   "metadata": {},
   "outputs": [
    {
     "data": {
      "text/plain": [
       "array([-2.14107888e+00+0.j, -1.11388069e-01+0.j, -3.62236327e+00+0.j,\n",
       "        5.75453337e-02+0.j,  1.34076501e-01+0.j,  1.45616552e-01+0.j,\n",
       "        1.40351309e-01+0.j,  4.87504437e-01+0.j,  5.02670226e+00+0.j,\n",
       "        2.06959943e+00+0.j,  7.81357528e-02+0.j,  1.30911892e-01+0.j,\n",
       "        4.09534778e-02+0.j,  4.69293849e+00+0.j,  1.33947466e+00+0.j,\n",
       "        3.57183740e+00+0.j, -1.86236238e-02+0.j,  8.95447933e-02+0.j,\n",
       "        1.75880641e+00+0.j,  1.13600692e+00+0.j,  2.92959795e-01+0.j,\n",
       "        9.37252040e-02+0.j,  2.62680033e+00+0.j,  3.96647977e+00+0.j,\n",
       "       -4.86788727e-01+0.j, -1.44612470e+00+0.j,  2.05619207e+00+0.j,\n",
       "        4.83000137e+00+0.j,  2.05856329e+00+0.j,  8.01012382e-01+0.j,\n",
       "        2.36567183e+00+0.j,  5.16977262e+00+0.j,  1.16268023e+01+0.j,\n",
       "       -4.89616193e+01+0.j])"
      ]
     },
     "execution_count": 20,
     "metadata": {},
     "output_type": "execute_result"
    }
   ],
   "source": [
    "eigs[1][:,0] * eigs[0][0]"
   ]
  },
  {
   "cell_type": "code",
   "execution_count": null,
   "id": "dcac0dc7-3d33-43e8-84a8-0f4867f4d068",
   "metadata": {},
   "outputs": [],
   "source": [
    "# This looks to be correct. I think == line above just failed due to weird float comparison stuff."
   ]
  },
  {
   "cell_type": "code",
   "execution_count": null,
   "id": "065d34e7-67d2-440c-9b08-74768f681140",
   "metadata": {},
   "outputs": [],
   "source": []
  },
  {
   "cell_type": "markdown",
   "id": "7eb1aeeb-1241-447b-b7d3-e29a67c61e08",
   "metadata": {},
   "source": [
    "## Run prepro"
   ]
  },
  {
   "cell_type": "code",
   "execution_count": 137,
   "id": "cabedd75-5988-415f-a579-896f0d597b4a",
   "metadata": {},
   "outputs": [
    {
     "name": "stderr",
     "output_type": "stream",
     "text": [
      "<class 'networkx.utils.decorators.argmap'> compilation 4:4: FutureWarning: laplacian_matrix will return a scipy.sparse array instead of a matrix in Networkx 3.0.\n"
     ]
    }
   ],
   "source": [
    "gr = nx.karate_club_graph()\n",
    "lap = nx.laplacian_matrix(gr)"
   ]
  },
  {
   "cell_type": "code",
   "execution_count": 139,
   "id": "13ab8263-04bc-4f98-83b6-e11d45b9c817",
   "metadata": {},
   "outputs": [
    {
     "data": {
      "text/plain": [
       "matrix([[42, -4, -5, ..., -2,  0,  0],\n",
       "        [-4, 29, -6, ...,  0,  0,  0],\n",
       "        [-5, -6, 33, ...,  0, -2,  0],\n",
       "        ...,\n",
       "        [-2,  0,  0, ..., 21, -4, -4],\n",
       "        [ 0,  0, -2, ..., -4, 38, -5],\n",
       "        [ 0,  0,  0, ..., -4, -5, 48]])"
      ]
     },
     "execution_count": 139,
     "metadata": {},
     "output_type": "execute_result"
    }
   ],
   "source": [
    "lap.todense()"
   ]
  },
  {
   "cell_type": "code",
   "execution_count": 144,
   "id": "11142c37-3147-4593-9c7f-8fe798a8a07f",
   "metadata": {
    "tags": []
   },
   "outputs": [],
   "source": [
    "eig_vals, eig_vecs = laplacian_eigenmap(graph, 100)"
   ]
  },
  {
   "cell_type": "code",
   "execution_count": 145,
   "id": "2f0a7d9c-30f0-4846-b90c-fde649c8fea2",
   "metadata": {},
   "outputs": [
    {
     "data": {
      "text/plain": [
       "(36686, 100)"
      ]
     },
     "execution_count": 145,
     "metadata": {},
     "output_type": "execute_result"
    }
   ],
   "source": [
    "eig_vecs.shape"
   ]
  },
  {
   "cell_type": "code",
   "execution_count": 146,
   "id": "76608289-8187-4526-abf6-5116fc3dfe65",
   "metadata": {},
   "outputs": [
    {
     "data": {
      "text/plain": [
       "array([[-1.56549737e-07+0.j, -4.75102988e-03+0.j,  8.49128599e-03+0.j,\n",
       "        ..., -4.23546040e-08+0.j,  6.37533309e-14+0.j,\n",
       "         5.93740676e-15+0.j],\n",
       "       [ 8.99160293e-08+0.j,  2.72880473e-03+0.j, -5.76749486e-03+0.j,\n",
       "        ...,  3.93787467e-08+0.j, -4.07747822e-14+0.j,\n",
       "        -4.64956599e-15+0.j],\n",
       "       [ 2.51206687e-07+0.j,  7.62372010e-03+0.j, -3.50397916e-03+0.j,\n",
       "        ...,  1.56740234e-08+0.j, -9.56107365e-14+0.j,\n",
       "        -7.01455055e-15+0.j],\n",
       "       ...,\n",
       "       [ 1.18036666e-13+0.j,  6.82699096e-16+0.j, -1.14022218e-16+0.j,\n",
       "        ..., -2.72417571e-14+0.j,  1.46361454e-15+0.j,\n",
       "         2.91156499e-15+0.j],\n",
       "       [-2.69233392e-13+0.j,  3.44238969e-15+0.j, -1.20335252e-15+0.j,\n",
       "        ...,  9.69947901e-14+0.j, -1.22163297e-13+0.j,\n",
       "        -2.01725663e-14+0.j],\n",
       "       [ 6.25221810e-14+0.j, -1.94929855e-15+0.j,  6.73378523e-16+0.j,\n",
       "        ...,  1.59455176e-14+0.j,  3.82516197e-15+0.j,\n",
       "        -9.04331074e-16+0.j]])"
      ]
     },
     "execution_count": 146,
     "metadata": {},
     "output_type": "execute_result"
    }
   ],
   "source": [
    "eig_vecs"
   ]
  },
  {
   "cell_type": "code",
   "execution_count": 147,
   "id": "30b79855-c633-4720-a33f-282099dbfd06",
   "metadata": {},
   "outputs": [
    {
     "name": "stderr",
     "output_type": "stream",
     "text": [
      "/var/folders/ms/mpc19fxd7zz_dr0tr65kskdh0000gn/T/ipykernel_42663/2773654024.py:1: ComplexWarning: Casting complex values to real discards the imaginary part\n",
      "  val_map = {i : float(eig_vecs[i,9]) for i in range(eig_vecs.shape[0])}\n"
     ]
    }
   ],
   "source": [
    "val_map = {i : float(eig_vecs[i,9]) for i in range(eig_vecs.shape[0])}"
   ]
  },
  {
   "cell_type": "code",
   "execution_count": 148,
   "id": "439caf15-0c1f-4dfe-b16d-41206104d77b",
   "metadata": {},
   "outputs": [],
   "source": [
    "values = [val_map.get(node) for node in graph.nodes()]"
   ]
  },
  {
   "cell_type": "code",
   "execution_count": 149,
   "id": "0c8a531c-77e9-444e-aa81-6737b3cb3ed8",
   "metadata": {},
   "outputs": [
    {
     "data": {
      "text/plain": [
       "0.49999777400645445"
      ]
     },
     "execution_count": 149,
     "metadata": {},
     "output_type": "execute_result"
    }
   ],
   "source": [
    "import matplotlib as mpl\n",
    "norm = mpl.colors.Normalize(vmin=min(values), vmax=max(values))\n",
    "norm(0)"
   ]
  },
  {
   "cell_type": "code",
   "execution_count": 150,
   "id": "1d83b4c3-5836-4b8b-a7a8-536f5a71a744",
   "metadata": {},
   "outputs": [],
   "source": [
    "values = norm(values)"
   ]
  },
  {
   "cell_type": "code",
   "execution_count": 151,
   "id": "d71349ab-7f89-4ad3-82e9-efc45fbfb106",
   "metadata": {},
   "outputs": [
    {
     "ename": "KeyboardInterrupt",
     "evalue": "",
     "output_type": "error",
     "traceback": [
      "\u001b[0;31m---------------------------------------------------------------------------\u001b[0m",
      "\u001b[0;31mKeyboardInterrupt\u001b[0m                         Traceback (most recent call last)",
      "Cell \u001b[0;32mIn[151], line 1\u001b[0m\n\u001b[0;32m----> 1\u001b[0m \u001b[43mnx\u001b[49m\u001b[38;5;241;43m.\u001b[39;49m\u001b[43mdraw\u001b[49m\u001b[43m(\u001b[49m\u001b[43mgraph\u001b[49m\u001b[43m,\u001b[49m\u001b[43m \u001b[49m\u001b[43mcmap\u001b[49m\u001b[38;5;241;43m=\u001b[39;49m\u001b[43mplt\u001b[49m\u001b[38;5;241;43m.\u001b[39;49m\u001b[43mget_cmap\u001b[49m\u001b[43m(\u001b[49m\u001b[38;5;124;43m'\u001b[39;49m\u001b[38;5;124;43mseismic\u001b[39;49m\u001b[38;5;124;43m'\u001b[39;49m\u001b[43m)\u001b[49m\u001b[43m,\u001b[49m\u001b[43m \u001b[49m\u001b[43mnode_color\u001b[49m\u001b[38;5;241;43m=\u001b[39;49m\u001b[43mvalues\u001b[49m\u001b[43m,\u001b[49m\u001b[43m \u001b[49m\u001b[43mwith_labels\u001b[49m\u001b[38;5;241;43m=\u001b[39;49m\u001b[38;5;28;43;01mTrue\u001b[39;49;00m\u001b[43m,\u001b[49m\u001b[43m \u001b[49m\u001b[43mfont_color\u001b[49m\u001b[38;5;241;43m=\u001b[39;49m\u001b[38;5;124;43m'\u001b[39;49m\u001b[38;5;124;43mwhite\u001b[39;49m\u001b[38;5;124;43m'\u001b[39;49m\u001b[43m)\u001b[49m\n",
      "File \u001b[0;32m~/opt/anaconda3/envs/mesh/lib/python3.10/site-packages/networkx/drawing/nx_pylab.py:120\u001b[0m, in \u001b[0;36mdraw\u001b[0;34m(G, pos, ax, **kwds)\u001b[0m\n\u001b[1;32m    117\u001b[0m \u001b[38;5;28;01mif\u001b[39;00m \u001b[38;5;124m\"\u001b[39m\u001b[38;5;124mwith_labels\u001b[39m\u001b[38;5;124m\"\u001b[39m \u001b[38;5;129;01mnot\u001b[39;00m \u001b[38;5;129;01min\u001b[39;00m kwds:\n\u001b[1;32m    118\u001b[0m     kwds[\u001b[38;5;124m\"\u001b[39m\u001b[38;5;124mwith_labels\u001b[39m\u001b[38;5;124m\"\u001b[39m] \u001b[38;5;241m=\u001b[39m \u001b[38;5;124m\"\u001b[39m\u001b[38;5;124mlabels\u001b[39m\u001b[38;5;124m\"\u001b[39m \u001b[38;5;129;01min\u001b[39;00m kwds\n\u001b[0;32m--> 120\u001b[0m \u001b[43mdraw_networkx\u001b[49m\u001b[43m(\u001b[49m\u001b[43mG\u001b[49m\u001b[43m,\u001b[49m\u001b[43m \u001b[49m\u001b[43mpos\u001b[49m\u001b[38;5;241;43m=\u001b[39;49m\u001b[43mpos\u001b[49m\u001b[43m,\u001b[49m\u001b[43m \u001b[49m\u001b[43max\u001b[49m\u001b[38;5;241;43m=\u001b[39;49m\u001b[43max\u001b[49m\u001b[43m,\u001b[49m\u001b[43m \u001b[49m\u001b[38;5;241;43m*\u001b[39;49m\u001b[38;5;241;43m*\u001b[39;49m\u001b[43mkwds\u001b[49m\u001b[43m)\u001b[49m\n\u001b[1;32m    121\u001b[0m ax\u001b[38;5;241m.\u001b[39mset_axis_off()\n\u001b[1;32m    122\u001b[0m plt\u001b[38;5;241m.\u001b[39mdraw_if_interactive()\n",
      "File \u001b[0;32m~/opt/anaconda3/envs/mesh/lib/python3.10/site-packages/networkx/drawing/nx_pylab.py:331\u001b[0m, in \u001b[0;36mdraw_networkx\u001b[0;34m(G, pos, arrows, with_labels, **kwds)\u001b[0m\n\u001b[1;32m    328\u001b[0m label_kwds \u001b[38;5;241m=\u001b[39m {k: v \u001b[38;5;28;01mfor\u001b[39;00m k, v \u001b[38;5;129;01min\u001b[39;00m kwds\u001b[38;5;241m.\u001b[39mitems() \u001b[38;5;28;01mif\u001b[39;00m k \u001b[38;5;129;01min\u001b[39;00m valid_label_kwds}\n\u001b[1;32m    330\u001b[0m \u001b[38;5;28;01mif\u001b[39;00m pos \u001b[38;5;129;01mis\u001b[39;00m \u001b[38;5;28;01mNone\u001b[39;00m:\n\u001b[0;32m--> 331\u001b[0m     pos \u001b[38;5;241m=\u001b[39m \u001b[43mnx\u001b[49m\u001b[38;5;241;43m.\u001b[39;49m\u001b[43mdrawing\u001b[49m\u001b[38;5;241;43m.\u001b[39;49m\u001b[43mspring_layout\u001b[49m\u001b[43m(\u001b[49m\u001b[43mG\u001b[49m\u001b[43m)\u001b[49m  \u001b[38;5;66;03m# default to spring layout\u001b[39;00m\n\u001b[1;32m    333\u001b[0m draw_networkx_nodes(G, pos, \u001b[38;5;241m*\u001b[39m\u001b[38;5;241m*\u001b[39mnode_kwds)\n\u001b[1;32m    334\u001b[0m draw_networkx_edges(G, pos, arrows\u001b[38;5;241m=\u001b[39marrows, \u001b[38;5;241m*\u001b[39m\u001b[38;5;241m*\u001b[39medge_kwds)\n",
      "File \u001b[0;32m<class 'networkx.utils.decorators.argmap'> compilation 8:4\u001b[0m, in \u001b[0;36margmap_spring_layout_5\u001b[0;34m(G, k, pos, fixed, iterations, threshold, weight, scale, center, dim, seed)\u001b[0m\n\u001b[1;32m      2\u001b[0m \u001b[38;5;28;01mfrom\u001b[39;00m \u001b[38;5;21;01mos\u001b[39;00m\u001b[38;5;21;01m.\u001b[39;00m\u001b[38;5;21;01mpath\u001b[39;00m \u001b[38;5;28;01mimport\u001b[39;00m splitext\n\u001b[1;32m      3\u001b[0m \u001b[38;5;28;01mfrom\u001b[39;00m \u001b[38;5;21;01mcontextlib\u001b[39;00m \u001b[38;5;28;01mimport\u001b[39;00m contextmanager\n\u001b[0;32m----> 4\u001b[0m \u001b[38;5;28;01mfrom\u001b[39;00m \u001b[38;5;21;01mpathlib\u001b[39;00m \u001b[38;5;28;01mimport\u001b[39;00m Path\n\u001b[1;32m      6\u001b[0m \u001b[38;5;28;01mimport\u001b[39;00m \u001b[38;5;21;01mnetworkx\u001b[39;00m \u001b[38;5;28;01mas\u001b[39;00m \u001b[38;5;21;01mnx\u001b[39;00m\n\u001b[1;32m      7\u001b[0m \u001b[38;5;28;01mfrom\u001b[39;00m \u001b[38;5;21;01mnetworkx\u001b[39;00m\u001b[38;5;21;01m.\u001b[39;00m\u001b[38;5;21;01mutils\u001b[39;00m \u001b[38;5;28;01mimport\u001b[39;00m create_random_state, create_py_random_state\n",
      "File \u001b[0;32m~/opt/anaconda3/envs/mesh/lib/python3.10/site-packages/networkx/drawing/layout.py:481\u001b[0m, in \u001b[0;36mspring_layout\u001b[0;34m(G, k, pos, fixed, iterations, threshold, weight, scale, center, dim, seed)\u001b[0m\n\u001b[1;32m    479\u001b[0m         nnodes, _ \u001b[38;5;241m=\u001b[39m A\u001b[38;5;241m.\u001b[39mshape\n\u001b[1;32m    480\u001b[0m         k \u001b[38;5;241m=\u001b[39m dom_size \u001b[38;5;241m/\u001b[39m np\u001b[38;5;241m.\u001b[39msqrt(nnodes)\n\u001b[0;32m--> 481\u001b[0m     pos \u001b[38;5;241m=\u001b[39m \u001b[43m_sparse_fruchterman_reingold\u001b[49m\u001b[43m(\u001b[49m\n\u001b[1;32m    482\u001b[0m \u001b[43m        \u001b[49m\u001b[43mA\u001b[49m\u001b[43m,\u001b[49m\u001b[43m \u001b[49m\u001b[43mk\u001b[49m\u001b[43m,\u001b[49m\u001b[43m \u001b[49m\u001b[43mpos_arr\u001b[49m\u001b[43m,\u001b[49m\u001b[43m \u001b[49m\u001b[43mfixed\u001b[49m\u001b[43m,\u001b[49m\u001b[43m \u001b[49m\u001b[43miterations\u001b[49m\u001b[43m,\u001b[49m\u001b[43m \u001b[49m\u001b[43mthreshold\u001b[49m\u001b[43m,\u001b[49m\u001b[43m \u001b[49m\u001b[43mdim\u001b[49m\u001b[43m,\u001b[49m\u001b[43m \u001b[49m\u001b[43mseed\u001b[49m\n\u001b[1;32m    483\u001b[0m \u001b[43m    \u001b[49m\u001b[43m)\u001b[49m\n\u001b[1;32m    484\u001b[0m \u001b[38;5;28;01mexcept\u001b[39;00m \u001b[38;5;167;01mValueError\u001b[39;00m:\n\u001b[1;32m    485\u001b[0m     A \u001b[38;5;241m=\u001b[39m nx\u001b[38;5;241m.\u001b[39mto_numpy_array(G, weight\u001b[38;5;241m=\u001b[39mweight)\n",
      "File \u001b[0;32m~/opt/anaconda3/envs/mesh/lib/python3.10/site-packages/networkx/utils/decorators.py:816\u001b[0m, in \u001b[0;36margmap.__call__.<locals>.func\u001b[0;34m(_argmap__wrapper, *args, **kwargs)\u001b[0m\n\u001b[1;32m    815\u001b[0m \u001b[38;5;28;01mdef\u001b[39;00m \u001b[38;5;21mfunc\u001b[39m(\u001b[38;5;241m*\u001b[39margs, __wrapper\u001b[38;5;241m=\u001b[39m\u001b[38;5;28;01mNone\u001b[39;00m, \u001b[38;5;241m*\u001b[39m\u001b[38;5;241m*\u001b[39mkwargs):\n\u001b[0;32m--> 816\u001b[0m     \u001b[38;5;28;01mreturn\u001b[39;00m \u001b[43margmap\u001b[49m\u001b[38;5;241;43m.\u001b[39;49m\u001b[43m_lazy_compile\u001b[49m\u001b[43m(\u001b[49m\u001b[43m__wrapper\u001b[49m\u001b[43m)\u001b[49m\u001b[43m(\u001b[49m\u001b[38;5;241;43m*\u001b[39;49m\u001b[43margs\u001b[49m\u001b[43m,\u001b[49m\u001b[43m \u001b[49m\u001b[38;5;241;43m*\u001b[39;49m\u001b[38;5;241;43m*\u001b[39;49m\u001b[43mkwargs\u001b[49m\u001b[43m)\u001b[49m\n",
      "File \u001b[0;32m<class 'networkx.utils.decorators.argmap'> compilation 16:4\u001b[0m, in \u001b[0;36margmap__sparse_fruchterman_reingold_13\u001b[0;34m(A, k, pos, fixed, iterations, threshold, dim, seed)\u001b[0m\n\u001b[1;32m      2\u001b[0m \u001b[38;5;28;01mfrom\u001b[39;00m \u001b[38;5;21;01mos\u001b[39;00m\u001b[38;5;21;01m.\u001b[39;00m\u001b[38;5;21;01mpath\u001b[39;00m \u001b[38;5;28;01mimport\u001b[39;00m splitext\n\u001b[1;32m      3\u001b[0m \u001b[38;5;28;01mfrom\u001b[39;00m \u001b[38;5;21;01mcontextlib\u001b[39;00m \u001b[38;5;28;01mimport\u001b[39;00m contextmanager\n\u001b[0;32m----> 4\u001b[0m \u001b[38;5;28;01mfrom\u001b[39;00m \u001b[38;5;21;01mpathlib\u001b[39;00m \u001b[38;5;28;01mimport\u001b[39;00m Path\n\u001b[1;32m      6\u001b[0m \u001b[38;5;28;01mimport\u001b[39;00m \u001b[38;5;21;01mnetworkx\u001b[39;00m \u001b[38;5;28;01mas\u001b[39;00m \u001b[38;5;21;01mnx\u001b[39;00m\n\u001b[1;32m      7\u001b[0m \u001b[38;5;28;01mfrom\u001b[39;00m \u001b[38;5;21;01mnetworkx\u001b[39;00m\u001b[38;5;21;01m.\u001b[39;00m\u001b[38;5;21;01mutils\u001b[39;00m \u001b[38;5;28;01mimport\u001b[39;00m create_random_state, create_py_random_state\n",
      "File \u001b[0;32m~/opt/anaconda3/envs/mesh/lib/python3.10/site-packages/networkx/drawing/layout.py:617\u001b[0m, in \u001b[0;36m_sparse_fruchterman_reingold\u001b[0;34m(A, k, pos, fixed, iterations, threshold, dim, seed)\u001b[0m\n\u001b[1;32m    615\u001b[0m delta \u001b[38;5;241m=\u001b[39m (pos[i] \u001b[38;5;241m-\u001b[39m pos)\u001b[38;5;241m.\u001b[39mT\n\u001b[1;32m    616\u001b[0m \u001b[38;5;66;03m# distance between points\u001b[39;00m\n\u001b[0;32m--> 617\u001b[0m distance \u001b[38;5;241m=\u001b[39m np\u001b[38;5;241m.\u001b[39msqrt(\u001b[43m(\u001b[49m\u001b[43mdelta\u001b[49m\u001b[43m \u001b[49m\u001b[38;5;241;43m*\u001b[39;49m\u001b[38;5;241;43m*\u001b[39;49m\u001b[43m \u001b[49m\u001b[38;5;241;43m2\u001b[39;49m\u001b[43m)\u001b[49m\u001b[38;5;241;43m.\u001b[39;49m\u001b[43msum\u001b[49m\u001b[43m(\u001b[49m\u001b[43maxis\u001b[49m\u001b[38;5;241;43m=\u001b[39;49m\u001b[38;5;241;43m0\u001b[39;49m\u001b[43m)\u001b[49m)\n\u001b[1;32m    618\u001b[0m \u001b[38;5;66;03m# enforce minimum distance of 0.01\u001b[39;00m\n\u001b[1;32m    619\u001b[0m distance \u001b[38;5;241m=\u001b[39m np\u001b[38;5;241m.\u001b[39mwhere(distance \u001b[38;5;241m<\u001b[39m \u001b[38;5;241m0.01\u001b[39m, \u001b[38;5;241m0.01\u001b[39m, distance)\n",
      "File \u001b[0;32m~/opt/anaconda3/envs/mesh/lib/python3.10/site-packages/numpy/core/_methods.py:46\u001b[0m, in \u001b[0;36m_sum\u001b[0;34m(a, axis, dtype, out, keepdims, initial, where)\u001b[0m\n\u001b[1;32m     42\u001b[0m \u001b[38;5;28;01mdef\u001b[39;00m \u001b[38;5;21m_amin\u001b[39m(a, axis\u001b[38;5;241m=\u001b[39m\u001b[38;5;28;01mNone\u001b[39;00m, out\u001b[38;5;241m=\u001b[39m\u001b[38;5;28;01mNone\u001b[39;00m, keepdims\u001b[38;5;241m=\u001b[39m\u001b[38;5;28;01mFalse\u001b[39;00m,\n\u001b[1;32m     43\u001b[0m           initial\u001b[38;5;241m=\u001b[39m_NoValue, where\u001b[38;5;241m=\u001b[39m\u001b[38;5;28;01mTrue\u001b[39;00m):\n\u001b[1;32m     44\u001b[0m     \u001b[38;5;28;01mreturn\u001b[39;00m umr_minimum(a, axis, \u001b[38;5;28;01mNone\u001b[39;00m, out, keepdims, initial, where)\n\u001b[0;32m---> 46\u001b[0m \u001b[38;5;28;01mdef\u001b[39;00m \u001b[38;5;21m_sum\u001b[39m(a, axis\u001b[38;5;241m=\u001b[39m\u001b[38;5;28;01mNone\u001b[39;00m, dtype\u001b[38;5;241m=\u001b[39m\u001b[38;5;28;01mNone\u001b[39;00m, out\u001b[38;5;241m=\u001b[39m\u001b[38;5;28;01mNone\u001b[39;00m, keepdims\u001b[38;5;241m=\u001b[39m\u001b[38;5;28;01mFalse\u001b[39;00m,\n\u001b[1;32m     47\u001b[0m          initial\u001b[38;5;241m=\u001b[39m_NoValue, where\u001b[38;5;241m=\u001b[39m\u001b[38;5;28;01mTrue\u001b[39;00m):\n\u001b[1;32m     48\u001b[0m     \u001b[38;5;28;01mreturn\u001b[39;00m umr_sum(a, axis, dtype, out, keepdims, initial, where)\n\u001b[1;32m     50\u001b[0m \u001b[38;5;28;01mdef\u001b[39;00m \u001b[38;5;21m_prod\u001b[39m(a, axis\u001b[38;5;241m=\u001b[39m\u001b[38;5;28;01mNone\u001b[39;00m, dtype\u001b[38;5;241m=\u001b[39m\u001b[38;5;28;01mNone\u001b[39;00m, out\u001b[38;5;241m=\u001b[39m\u001b[38;5;28;01mNone\u001b[39;00m, keepdims\u001b[38;5;241m=\u001b[39m\u001b[38;5;28;01mFalse\u001b[39;00m,\n\u001b[1;32m     51\u001b[0m           initial\u001b[38;5;241m=\u001b[39m_NoValue, where\u001b[38;5;241m=\u001b[39m\u001b[38;5;28;01mTrue\u001b[39;00m):\n",
      "\u001b[0;31mKeyboardInterrupt\u001b[0m: "
     ]
    },
    {
     "data": {
      "image/png": "[encoded data removed]",
      "text/plain": [
       "<Figure size 640x480 with 1 Axes>"
      ]
     },
     "metadata": {},
     "output_type": "display_data"
    }
   ],
   "source": [
    "nx.draw(graph, cmap=plt.get_cmap('seismic'), node_color=values, with_labels=True, font_color='white')"
   ]
  },
  {
   "cell_type": "code",
   "execution_count": null,
   "id": "22060992-ecfa-4863-af4c-358ad75671c4",
   "metadata": {},
   "outputs": [],
   "source": []
  }
 ],
 "metadata": {
  "kernelspec": {
   "display_name": "Python 3 (ipykernel)",
   "language": "python",
   "name": "python3"
  },
  "language_info": {
   "codemirror_mode": {
    "name": "ipython",
    "version": 3
   },
   "file_extension": ".py",
   "mimetype": "text/x-python",
   "name": "python",
   "nbconvert_exporter": "python",
   "pygments_lexer": "ipython3",
   "version": "3.10.4"
  }
 },
 "nbformat": 4,
 "nbformat_minor": 5
}
